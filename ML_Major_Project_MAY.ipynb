{
  "nbformat": 4,
  "nbformat_minor": 0,
  "metadata": {
    "colab": {
      "provenance": [],
      "collapsed_sections": [],
      "mount_file_id": "1EUNMmx-3I0zqsfqBlrA5JsxPcTOk3G4Y",
      "authorship_tag": "ABX9TyNflnsXHesTEB/S6ssrXA3o",
      "include_colab_link": true
    },
    "kernelspec": {
      "display_name": "Python 3",
      "name": "python3"
    },
    "language_info": {
      "name": "python"
    }
  },
  "cells": [
    {
      "cell_type": "markdown",
      "metadata": {
        "id": "view-in-github",
        "colab_type": "text"
      },
      "source": [
        "<a href=\"https://colab.research.google.com/github/Sri-charan1069/Major-Project/blob/main/ML_Major_Project_MAY.ipynb\" target=\"_parent\"><img src=\"https://colab.research.google.com/assets/colab-badge.svg\" alt=\"Open In Colab\"/></a>"
      ]
    },
    {
      "cell_type": "code",
      "metadata": {
        "colab": {
          "base_uri": "https://localhost:8080/",
          "height": 414
        },
        "id": "q3XpCLs5vhZI",
        "outputId": "c08fdd01-c691-46b9-c24c-fb42416daaf9"
      },
      "source": [
        "# MAJOR PROJECT ON SENTIMENTAL ANALYSIS\n",
        "import numpy as np\n",
        "import pandas as pd\n",
        "df=pd.read_csv('/content/drive/MyDrive/Flipkart_Reviews/data.csv')\n",
        "df"
      ],
      "execution_count": null,
      "outputs": [
        {
          "output_type": "execute_result",
          "data": {
            "text/html": [
              "<div>\n",
              "<style scoped>\n",
              "    .dataframe tbody tr th:only-of-type {\n",
              "        vertical-align: middle;\n",
              "    }\n",
              "\n",
              "    .dataframe tbody tr th {\n",
              "        vertical-align: top;\n",
              "    }\n",
              "\n",
              "    .dataframe thead th {\n",
              "        text-align: right;\n",
              "    }\n",
              "</style>\n",
              "<table border=\"1\" class=\"dataframe\">\n",
              "  <thead>\n",
              "    <tr style=\"text-align: right;\">\n",
              "      <th></th>\n",
              "      <th>review</th>\n",
              "      <th>rating</th>\n",
              "    </tr>\n",
              "  </thead>\n",
              "  <tbody>\n",
              "    <tr>\n",
              "      <th>0</th>\n",
              "      <td>It was nice produt. I like it's design a lot. ...</td>\n",
              "      <td>5</td>\n",
              "    </tr>\n",
              "    <tr>\n",
              "      <th>1</th>\n",
              "      <td>awesome sound....very pretty to see this nd th...</td>\n",
              "      <td>5</td>\n",
              "    </tr>\n",
              "    <tr>\n",
              "      <th>2</th>\n",
              "      <td>awesome sound quality. pros 7-8 hrs of battery...</td>\n",
              "      <td>4</td>\n",
              "    </tr>\n",
              "    <tr>\n",
              "      <th>3</th>\n",
              "      <td>I think it is such a good product not only as ...</td>\n",
              "      <td>5</td>\n",
              "    </tr>\n",
              "    <tr>\n",
              "      <th>4</th>\n",
              "      <td>awesome bass sound quality very good bettary l...</td>\n",
              "      <td>5</td>\n",
              "    </tr>\n",
              "    <tr>\n",
              "      <th>...</th>\n",
              "      <td>...</td>\n",
              "      <td>...</td>\n",
              "    </tr>\n",
              "    <tr>\n",
              "      <th>9971</th>\n",
              "      <td>GoodREAD MORE</td>\n",
              "      <td>5</td>\n",
              "    </tr>\n",
              "    <tr>\n",
              "      <th>9972</th>\n",
              "      <td>Everything is amazimg but the built is very li...</td>\n",
              "      <td>5</td>\n",
              "    </tr>\n",
              "    <tr>\n",
              "      <th>9973</th>\n",
              "      <td>GoodREAD MORE</td>\n",
              "      <td>5</td>\n",
              "    </tr>\n",
              "    <tr>\n",
              "      <th>9974</th>\n",
              "      <td>Best headphone i have ever used....READ MORE</td>\n",
              "      <td>5</td>\n",
              "    </tr>\n",
              "    <tr>\n",
              "      <th>9975</th>\n",
              "      <td>NiceREAD MORE</td>\n",
              "      <td>5</td>\n",
              "    </tr>\n",
              "  </tbody>\n",
              "</table>\n",
              "<p>9976 rows × 2 columns</p>\n",
              "</div>"
            ],
            "text/plain": [
              "                                                 review  rating\n",
              "0     It was nice produt. I like it's design a lot. ...       5\n",
              "1     awesome sound....very pretty to see this nd th...       5\n",
              "2     awesome sound quality. pros 7-8 hrs of battery...       4\n",
              "3     I think it is such a good product not only as ...       5\n",
              "4     awesome bass sound quality very good bettary l...       5\n",
              "...                                                 ...     ...\n",
              "9971                                      GoodREAD MORE       5\n",
              "9972  Everything is amazimg but the built is very li...       5\n",
              "9973                                      GoodREAD MORE       5\n",
              "9974       Best headphone i have ever used....READ MORE       5\n",
              "9975                                      NiceREAD MORE       5\n",
              "\n",
              "[9976 rows x 2 columns]"
            ]
          },
          "metadata": {
            "tags": []
          },
          "execution_count": 1
        }
      ]
    },
    {
      "cell_type": "code",
      "metadata": {
        "id": "05eZPTVym7Gc",
        "colab": {
          "base_uri": "https://localhost:8080/"
        },
        "outputId": "1ca1330b-6979-474d-de32-b4ca273f6c9e"
      },
      "source": [
        "from google.colab import drive\n",
        "drive.mount('/content/drive')"
      ],
      "execution_count": null,
      "outputs": [
        {
          "output_type": "stream",
          "text": [
            "Drive already mounted at /content/drive; to attempt to forcibly remount, call drive.mount(\"/content/drive\", force_remount=True).\n"
          ],
          "name": "stdout"
        }
      ]
    },
    {
      "cell_type": "code",
      "metadata": {
        "id": "SgqzP79qv5Fw",
        "colab": {
          "base_uri": "https://localhost:8080/"
        },
        "outputId": "4008ca81-cb4e-4213-cfd7-aec13c3b412a"
      },
      "source": [
        "df.shape"
      ],
      "execution_count": null,
      "outputs": [
        {
          "output_type": "execute_result",
          "data": {
            "text/plain": [
              "(9976, 2)"
            ]
          },
          "metadata": {
            "tags": []
          },
          "execution_count": 3
        }
      ]
    },
    {
      "cell_type": "code",
      "metadata": {
        "id": "Xlxhc6_PcvSQ",
        "colab": {
          "base_uri": "https://localhost:8080/"
        },
        "outputId": "428262ff-1a89-4018-a0b7-f7522caa7106"
      },
      "source": [
        "df.info"
      ],
      "execution_count": null,
      "outputs": [
        {
          "output_type": "execute_result",
          "data": {
            "text/plain": [
              "<bound method DataFrame.info of                                                  review  rating\n",
              "0     It was nice produt. I like it's design a lot. ...       5\n",
              "1     awesome sound....very pretty to see this nd th...       5\n",
              "2     awesome sound quality. pros 7-8 hrs of battery...       4\n",
              "3     I think it is such a good product not only as ...       5\n",
              "4     awesome bass sound quality very good bettary l...       5\n",
              "...                                                 ...     ...\n",
              "9971                                      GoodREAD MORE       5\n",
              "9972  Everything is amazimg but the built is very li...       5\n",
              "9973                                      GoodREAD MORE       5\n",
              "9974       Best headphone i have ever used....READ MORE       5\n",
              "9975                                      NiceREAD MORE       5\n",
              "\n",
              "[9976 rows x 2 columns]>"
            ]
          },
          "metadata": {
            "tags": []
          },
          "execution_count": 4
        }
      ]
    },
    {
      "cell_type": "code",
      "metadata": {
        "id": "fyvzd0Tqv9jk",
        "colab": {
          "base_uri": "https://localhost:8080/"
        },
        "outputId": "0a0def95-a2d4-434b-e5a9-b03515da9719"
      },
      "source": [
        "df['rating'].value_counts()"
      ],
      "execution_count": null,
      "outputs": [
        {
          "output_type": "execute_result",
          "data": {
            "text/plain": [
              "5    5726\n",
              "4    2365\n",
              "3     884\n",
              "1     691\n",
              "2     310\n",
              "Name: rating, dtype: int64"
            ]
          },
          "metadata": {
            "tags": []
          },
          "execution_count": 5
        }
      ]
    },
    {
      "cell_type": "code",
      "metadata": {
        "id": "FBUj6gg1ivUR",
        "colab": {
          "base_uri": "https://localhost:8080/"
        },
        "outputId": "e217470a-f4a4-41a2-8f8f-b640dc8075b0"
      },
      "source": [
        "df['review']"
      ],
      "execution_count": null,
      "outputs": [
        {
          "output_type": "execute_result",
          "data": {
            "text/plain": [
              "0       It was nice produt. I like it's design a lot. ...\n",
              "1       awesome sound....very pretty to see this nd th...\n",
              "2       awesome sound quality. pros 7-8 hrs of battery...\n",
              "3       I think it is such a good product not only as ...\n",
              "4       awesome bass sound quality very good bettary l...\n",
              "                              ...                        \n",
              "9971                                        GoodREAD MORE\n",
              "9972    Everything is amazimg but the built is very li...\n",
              "9973                                        GoodREAD MORE\n",
              "9974         Best headphone i have ever used....READ MORE\n",
              "9975                                        NiceREAD MORE\n",
              "Name: review, Length: 9976, dtype: object"
            ]
          },
          "metadata": {
            "tags": []
          },
          "execution_count": 6
        }
      ]
    },
    {
      "cell_type": "code",
      "metadata": {
        "id": "4BrUZRZ3wBpB",
        "colab": {
          "base_uri": "https://localhost:8080/"
        },
        "outputId": "981d5895-87d0-429e-bd09-4a6b8c80a9c9"
      },
      "source": [
        "#Text Processing\n",
        "import regex as re\n",
        "import nltk\n",
        "nltk.download('stopwords')\n",
        "from nltk.corpus import stopwords\n",
        "from nltk.stem.porter import PorterStemmer"
      ],
      "execution_count": null,
      "outputs": [
        {
          "output_type": "stream",
          "text": [
            "[nltk_data] Downloading package stopwords to /root/nltk_data...\n",
            "[nltk_data]   Unzipping corpora/stopwords.zip.\n"
          ],
          "name": "stdout"
        }
      ]
    },
    {
      "cell_type": "code",
      "metadata": {
        "id": "CUf0mzIOB_9I",
        "colab": {
          "base_uri": "https://localhost:8080/"
        },
        "outputId": "c5bce725-83af-407d-8383-d449e776b0ea"
      },
      "source": [
        "stop_words = stopwords.words('english')\n",
        "len(stop_words)"
      ],
      "execution_count": null,
      "outputs": [
        {
          "output_type": "execute_result",
          "data": {
            "text/plain": [
              "179"
            ]
          },
          "metadata": {
            "tags": []
          },
          "execution_count": 8
        }
      ]
    },
    {
      "cell_type": "code",
      "metadata": {
        "id": "Sw-u1YH5CStP",
        "colab": {
          "base_uri": "https://localhost:8080/"
        },
        "outputId": "9ea3b5aa-bef5-4e18-9e18-e236c92590d6"
      },
      "source": [
        "stop_words"
      ],
      "execution_count": null,
      "outputs": [
        {
          "output_type": "execute_result",
          "data": {
            "text/plain": [
              "['i',\n",
              " 'me',\n",
              " 'my',\n",
              " 'myself',\n",
              " 'we',\n",
              " 'our',\n",
              " 'ours',\n",
              " 'ourselves',\n",
              " 'you',\n",
              " \"you're\",\n",
              " \"you've\",\n",
              " \"you'll\",\n",
              " \"you'd\",\n",
              " 'your',\n",
              " 'yours',\n",
              " 'yourself',\n",
              " 'yourselves',\n",
              " 'he',\n",
              " 'him',\n",
              " 'his',\n",
              " 'himself',\n",
              " 'she',\n",
              " \"she's\",\n",
              " 'her',\n",
              " 'hers',\n",
              " 'herself',\n",
              " 'it',\n",
              " \"it's\",\n",
              " 'its',\n",
              " 'itself',\n",
              " 'they',\n",
              " 'them',\n",
              " 'their',\n",
              " 'theirs',\n",
              " 'themselves',\n",
              " 'what',\n",
              " 'which',\n",
              " 'who',\n",
              " 'whom',\n",
              " 'this',\n",
              " 'that',\n",
              " \"that'll\",\n",
              " 'these',\n",
              " 'those',\n",
              " 'am',\n",
              " 'is',\n",
              " 'are',\n",
              " 'was',\n",
              " 'were',\n",
              " 'be',\n",
              " 'been',\n",
              " 'being',\n",
              " 'have',\n",
              " 'has',\n",
              " 'had',\n",
              " 'having',\n",
              " 'do',\n",
              " 'does',\n",
              " 'did',\n",
              " 'doing',\n",
              " 'a',\n",
              " 'an',\n",
              " 'the',\n",
              " 'and',\n",
              " 'but',\n",
              " 'if',\n",
              " 'or',\n",
              " 'because',\n",
              " 'as',\n",
              " 'until',\n",
              " 'while',\n",
              " 'of',\n",
              " 'at',\n",
              " 'by',\n",
              " 'for',\n",
              " 'with',\n",
              " 'about',\n",
              " 'against',\n",
              " 'between',\n",
              " 'into',\n",
              " 'through',\n",
              " 'during',\n",
              " 'before',\n",
              " 'after',\n",
              " 'above',\n",
              " 'below',\n",
              " 'to',\n",
              " 'from',\n",
              " 'up',\n",
              " 'down',\n",
              " 'in',\n",
              " 'out',\n",
              " 'on',\n",
              " 'off',\n",
              " 'over',\n",
              " 'under',\n",
              " 'again',\n",
              " 'further',\n",
              " 'then',\n",
              " 'once',\n",
              " 'here',\n",
              " 'there',\n",
              " 'when',\n",
              " 'where',\n",
              " 'why',\n",
              " 'how',\n",
              " 'all',\n",
              " 'any',\n",
              " 'both',\n",
              " 'each',\n",
              " 'few',\n",
              " 'more',\n",
              " 'most',\n",
              " 'other',\n",
              " 'some',\n",
              " 'such',\n",
              " 'no',\n",
              " 'nor',\n",
              " 'not',\n",
              " 'only',\n",
              " 'own',\n",
              " 'same',\n",
              " 'so',\n",
              " 'than',\n",
              " 'too',\n",
              " 'very',\n",
              " 's',\n",
              " 't',\n",
              " 'can',\n",
              " 'will',\n",
              " 'just',\n",
              " 'don',\n",
              " \"don't\",\n",
              " 'should',\n",
              " \"should've\",\n",
              " 'now',\n",
              " 'd',\n",
              " 'll',\n",
              " 'm',\n",
              " 'o',\n",
              " 're',\n",
              " 've',\n",
              " 'y',\n",
              " 'ain',\n",
              " 'aren',\n",
              " \"aren't\",\n",
              " 'couldn',\n",
              " \"couldn't\",\n",
              " 'didn',\n",
              " \"didn't\",\n",
              " 'doesn',\n",
              " \"doesn't\",\n",
              " 'hadn',\n",
              " \"hadn't\",\n",
              " 'hasn',\n",
              " \"hasn't\",\n",
              " 'haven',\n",
              " \"haven't\",\n",
              " 'isn',\n",
              " \"isn't\",\n",
              " 'ma',\n",
              " 'mightn',\n",
              " \"mightn't\",\n",
              " 'mustn',\n",
              " \"mustn't\",\n",
              " 'needn',\n",
              " \"needn't\",\n",
              " 'shan',\n",
              " \"shan't\",\n",
              " 'shouldn',\n",
              " \"shouldn't\",\n",
              " 'wasn',\n",
              " \"wasn't\",\n",
              " 'weren',\n",
              " \"weren't\",\n",
              " 'won',\n",
              " \"won't\",\n",
              " 'wouldn',\n",
              " \"wouldn't\"]"
            ]
          },
          "metadata": {
            "tags": []
          },
          "execution_count": 9
        }
      ]
    },
    {
      "cell_type": "code",
      "metadata": {
        "id": "h0iW9WZXBm5R"
      },
      "source": [
        "#removing negative words\n",
        "x = ['no','not',\"don't\",\"aren't\",\"couldn't\",\"didn't\",\"doesn't\",\"hadn't\",\"hasn't\",\"haven't\",\"isn't\",\"mightn't\",\"mustn't\",\"needn't\",\"shouldn't\",\"wasn't\",\"weren't\",\"won't\",\"wouldn't\"]\n",
        "for nw in x:\n",
        "  stop_words.remove(nw)"
      ],
      "execution_count": null,
      "outputs": []
    },
    {
      "cell_type": "code",
      "metadata": {
        "id": "QxSbAiZ_Cu1L",
        "colab": {
          "base_uri": "https://localhost:8080/"
        },
        "outputId": "e50fcadc-a6ca-4aa0-e135-7a486a7cb4a9"
      },
      "source": [
        "len(stop_words)"
      ],
      "execution_count": null,
      "outputs": [
        {
          "output_type": "execute_result",
          "data": {
            "text/plain": [
              "160"
            ]
          },
          "metadata": {
            "tags": []
          },
          "execution_count": 11
        }
      ]
    },
    {
      "cell_type": "code",
      "metadata": {
        "id": "cFO8gUTd59bd"
      },
      "source": [
        "replace_by_space = re.compile('[/(){}—[]|@,;‘?|।!-॥–’-]')\n",
        "\n",
        "def clean_text(reviews):\n",
        "  reviews = reviews.lower()\n",
        "  reviews = reviews.replace(\"<br /><br />\", \"\")\n",
        "  reviews = replace_by_space.sub(' ', reviews)\n",
        "  reviews = re.sub(\"[^a-z]+\", \" \", reviews)\n",
        "  reviews = reviews.split()\n",
        "  ps = PorterStemmer()\n",
        "  reviews = [ps.stem(word) for word in reviews if not word in stop_words]\n",
        "  reviews = ' '.join(reviews)\n",
        "  return reviews"
      ],
      "execution_count": null,
      "outputs": []
    },
    {
      "cell_type": "code",
      "metadata": {
        "id": "7RATpGjjwity",
        "colab": {
          "base_uri": "https://localhost:8080/",
          "height": 202
        },
        "outputId": "c3a2f98c-6b6f-425f-ab83-7fce9d176716"
      },
      "source": [
        "df['review'] = df['review'].apply(clean_text)\n",
        "conditions = [\n",
        "    (df['rating'] >= 4),\n",
        "    (df['rating'] < 4)\n",
        "    ]\n",
        "comments = ['Positive','Negative']\n",
        "df['sentiment'] = np.select(conditions, comments)\n",
        "df.head()"
      ],
      "execution_count": null,
      "outputs": [
        {
          "output_type": "execute_result",
          "data": {
            "text/html": [
              "<div>\n",
              "<style scoped>\n",
              "    .dataframe tbody tr th:only-of-type {\n",
              "        vertical-align: middle;\n",
              "    }\n",
              "\n",
              "    .dataframe tbody tr th {\n",
              "        vertical-align: top;\n",
              "    }\n",
              "\n",
              "    .dataframe thead th {\n",
              "        text-align: right;\n",
              "    }\n",
              "</style>\n",
              "<table border=\"1\" class=\"dataframe\">\n",
              "  <thead>\n",
              "    <tr style=\"text-align: right;\">\n",
              "      <th></th>\n",
              "      <th>review</th>\n",
              "      <th>rating</th>\n",
              "      <th>sentiment</th>\n",
              "    </tr>\n",
              "  </thead>\n",
              "  <tbody>\n",
              "    <tr>\n",
              "      <th>0</th>\n",
              "      <td>nice produt like design lot easi carri look st...</td>\n",
              "      <td>5</td>\n",
              "      <td>Positive</td>\n",
              "    </tr>\n",
              "    <tr>\n",
              "      <th>1</th>\n",
              "      <td>awesom sound pretti see nd sound qualiti good ...</td>\n",
              "      <td>5</td>\n",
              "      <td>Positive</td>\n",
              "    </tr>\n",
              "    <tr>\n",
              "      <th>2</th>\n",
              "      <td>awesom sound qualiti pro hr batteri life inclu...</td>\n",
              "      <td>4</td>\n",
              "      <td>Positive</td>\n",
              "    </tr>\n",
              "    <tr>\n",
              "      <th>3</th>\n",
              "      <td>think good product not per qualiti also design...</td>\n",
              "      <td>5</td>\n",
              "      <td>Positive</td>\n",
              "    </tr>\n",
              "    <tr>\n",
              "      <th>4</th>\n",
              "      <td>awesom bass sound qualiti good bettari long li...</td>\n",
              "      <td>5</td>\n",
              "      <td>Positive</td>\n",
              "    </tr>\n",
              "  </tbody>\n",
              "</table>\n",
              "</div>"
            ],
            "text/plain": [
              "                                              review  rating sentiment\n",
              "0  nice produt like design lot easi carri look st...       5  Positive\n",
              "1  awesom sound pretti see nd sound qualiti good ...       5  Positive\n",
              "2  awesom sound qualiti pro hr batteri life inclu...       4  Positive\n",
              "3  think good product not per qualiti also design...       5  Positive\n",
              "4  awesom bass sound qualiti good bettari long li...       5  Positive"
            ]
          },
          "metadata": {
            "tags": []
          },
          "execution_count": 13
        }
      ]
    },
    {
      "cell_type": "code",
      "metadata": {
        "id": "5ol3OmXAH_VS",
        "colab": {
          "base_uri": "https://localhost:8080/"
        },
        "outputId": "62760534-e177-4785-9d82-20e8704b2993"
      },
      "source": [
        "review_list_view = df['review'].tolist()\n",
        "review_list_view"
      ],
      "execution_count": null,
      "outputs": [
        {
          "output_type": "execute_result",
          "data": {
            "text/plain": [
              "['nice produt like design lot easi carri look stylish read',\n",
              " 'awesom sound pretti see nd sound qualiti good wish take product love product read',\n",
              " 'awesom sound qualiti pro hr batteri life includ min approx call time awesom sound output bass trebl realli clear without equalis equalis sound wari depend handset sound qualiti weightless carri head toomic good traffic not good mm option realli import mention realli expect lead brand implement consveri tight ear adjust ok tight read',\n",
              " 'think good product not per qualiti also design quit good use product januari pandam situat becam use help overal bass sound qualiti pretti good anoth thing give sigh relief provid wire help case lack charg read',\n",
              " 'awesom bass sound qualiti good bettari long life purchas rs realli grate product forget likeread',\n",
              " 'awsom sound power bass batteri backup also excel love bass huge lover music bass design build also nice first time bought headphon electron item glad say first time love excel product thank boat make nice product keep make thank flipkart team deliv nice product risk lif read',\n",
              " 'product sound clear excel bass obvious good product valuabl money guy no daut realli good product read',\n",
              " 'u buy pro sound qualiti build qualiti awesom bluetooth connect averag bass clear high batteri backup good u use wire headphon u no charg headphon good cron u use long u feel pain ur ear ear not ear u need ear price go moto pul maxfin opinion u want good sound qualiti good bass wireless head read',\n",
              " 'first want talk sound qualiti sound qualiti best price segment bass realli punchi mid also good high volum sound crack bit otherwis realli nice come build qualiti build qualiti amaz cant get better headphon sturdi light made good qualiti plastic thing like bit tight sometim becom uncomforta read',\n",
              " 'good look super fine clear sound power full bassread',\n",
              " 'headphon best bass perfect fit fix head mi provid larg rang bluetooth mic work fine bluetooth wire also read',\n",
              " 'great look n light weight sound cool design ok ok ear couf cheaper qualiti minut feel pain ur ear n sweat sound qualiti excel n base awesom valu money price rang thank flipkart call featur also poor read',\n",
              " 'use headphon sinc month great bass song lover like listen type song headphon great kind music tranc edm hindi old song great batteri life tooo great buy bole paisa vasooooolread',\n",
              " 'sound qualiti good cannot wear minut sooo uncomfort ear start pain small size feel like somebodi press ear side great forc boat need improv design read',\n",
              " 'reson star sound alert connect low batteri incom call etc play time volum volum usual hear anyth headphon notif play sound level everyon room hear imagin play u r wear headphon like blast ur ear nowher play like loud wear wish throw away reason hvnt thrown away yet decent sound qualiti ba read',\n",
              " 'ye good aspect except mic tri talk use mic bluetooth person cannot hear clearli also low sound irrit want someth enjoy music budget qualiti good ye tight use get loosen littl not comfort big head feel head small week got comfort keep volum mid rang use hour like use hr day keepi read',\n",
              " 'sound relay rock compar headphon use hp lg soni batteri thank design awesom batteri backup u hear song ful day batteri back day neg mic not clear drive not audibl also speak call sound not louder head phone b improv headphon relay wonder product worth no doubt pleas go also custom servic respons good rate read',\n",
              " 'batteri backup good time tight head bluetooth connect good speaker good bass good boat realli rock guy bought product dasar cost rs price reasaonbl r observev use month r chang wait u batteri indic good realli happi product deliveri goodread',\n",
              " 'good product sound qualiti good bass not heavi say saw product got rate place order truli say dissatisfi product bluetooth connect good huge lack shown music track play bluetooth no issu aux mode built qualiti not good main thing search bass heavi headphon say bass heavi read',\n",
              " 'best budget headset price rang buy offer period sound qualiti awesom bass extrem good batteri backup hour charg time half hour main con tight ear cuff sweat minut want adjust regular interv mike qualiti worst person hear surround nois overal rate bass sound qualiti built qualiti batteri backup read',\n",
              " 'superb sound qualiti good design comfort good bettari life overal amaz product boat read',\n",
              " 'amaz audio product boat superb bass crystal clear sound awesom batteri backup go without kind hesit great deal priceread',\n",
              " 'awesom product prize deal phone pe app get rs good sound qualiti go itread',\n",
              " 'today get product realli good product price rang connect sound qualiti batteri backup built qualiti everyth good good ekart deliveri servic also thank u flipkart guy go read',\n",
              " 'super great product iam love thank flipkartread',\n",
              " 'nice headphon grt sound qualiti much impress connect iz fast batteri backup iz fabul headband iz lill tight u wear long time otherwis grt product fulli satisfi read',\n",
              " 'sound qualiti best look super stylish headphon packag superb right tym delevir thanku flipkart read',\n",
              " 'wooowwww superb product good effect sound clariti bluetooth r work good system mobil phone headphon charger cabl also connect wire yr warranti woooww thank read',\n",
              " 'headphon better choic budget sound qualiti awesom batteri backup perfect approx hour build qualiti averag one word better choic read',\n",
              " 'best bluetooth headset price rang total worth buy amaz product thank flipkart deliv short period timeread',\n",
              " 'headfon beauti sound qualiti osm bass power nice product thank flipcard deliv ao quickli salut flipcard staff love flipcard read',\n",
              " 'best devic rang bass qualiti best simpli love devic got deliv day light weight white neon colour simpli wow perfectli rest ear comfort well go thank boat read',\n",
              " 'light weight easi carri anywher attract model awesom servic flipkart love itread',\n",
              " 'headphon beauti classi light weight actual worth bass awesom also good sound qualiti read',\n",
              " 'awesom prodect got boat compani good provid good durabl prodect read',\n",
              " 'realli love product sound qualiti awesom prefer buy friend built qualiti relay awesom guy love productread',\n",
              " 'sound tooo good qualiti good happi devic sound qualiti import best qualiti music read',\n",
              " 'boat product good excel headphon buy bluetooth without wire use good wire also ad sound bass perfect wait order enjoy nowread',\n",
              " 'deliveri slow sound qualiti super bass also good build qualiti not bad batteri also good one major problem mic not good time mic not clearli call person voic clear voic not clear read',\n",
              " 'simpli amaz see also sound bass wear first time tight sometim good happi read',\n",
              " 'perfect price rang go absolut amaz one u feel no delay pubg sound sound perfectli synchronis game bought play pubg mainli pubg user u r look good headphon review help hit likeread',\n",
              " 'good sound good use sinc week fulli satisfi noic cancel littl issu good price littl bit high accord qualiti offer not recommend product go headphon not total satisfi read',\n",
              " 'design colour good sound qualiti awesom love much product read',\n",
              " 'st popular boat good sound product heavi punchi bass nice use mani boat ear phone experi nice boat rockerz even better ye feel uncomfort fond ear headphon rather sound great bass awesom build good design stylish batteri backup also preeti good buy ear headphon st time never use read',\n",
              " 'product good batteri backup also good recommend buy product life price rang best bluetooth headphoneread',\n",
              " 'firstli thank flipkart got headphon day earlier imagin blaze fast deliveri flipkart ok review use day design comfort frankli speak first headphon design pretti satisfactori show front friend purchas black red one ear cup adjust no problem wear comfort mani say tight uncomfort honest read',\n",
              " 'bought flipkart sale rs must say worth price bass pretti cool sound qualiti awesom bt still give star becoz littl uncomfort uh wear min ear start get pain bt week get use read',\n",
              " 'u cannt bought anyth cheap price well known brand worthi talk sound amaz batteri backup also good light weight carri hand call qualiti good enoughread',\n",
              " 'stylish beauti best bass qualiti feel like heaven listen fun happi purchas grab rs mayb cheapest till bit tight bt mayb get use best wid window well love itthanx flipkart read',\n",
              " 'awesom product super qualiti clear n high volum sound chang song cushion qualiti goodread',\n",
              " 'product good super extra bass work properli batteri backup best normal hour charg time correct descript product detail box audio plug charger cabl warranti card user manual etc high definit balanc sound next previou function not work laptop work mobil read',\n",
              " 'good headphon play game like pubg easili get everi footstep sound delay bluetooth mode aux cabl work perfectli fine sound bass batteri read',\n",
              " 'honest review month use bought flipkart bass lover go without confus base punchi feel ear vibrat thispro punchi bass dont know headset provid much bass mid trebl crystal clear hear everi instrument batteri backup excel get upto day moder use use accordingli push upto week charg quic read',\n",
              " 'give reviw month use awesom work nd good condit yet best use game movi song high loud qualiti betti backup good feel hour work give star caus u feel disappoint callingread',\n",
              " 'headphon good price rang go sound qualiti excel provid great bass build qualiti excel batteri backup greatgo itread',\n",
              " 'excel sound qualiti superior bass back great batteri power feather light built qualiti mind blow purchas good music enthusiast wise choic purchas price rang total love read',\n",
              " 'good headphon give u decent bass comfort take almost day adjust elast although u want good headphon overal decent qualiti go need extrem bass buy skull candi read',\n",
              " 'aa amaz product wo want buy u recommend price one best product ny accord buy best headphon best luv boatread',\n",
              " 'valu money got headphon k summer sale sound qualiti awesom good bass good nois cancel also connect devic quickli n devic show batteri percentag headphon also thr coolest thing headphon u often listen music headphon u go must buy headphon satisfi purchaseread',\n",
              " 'sound qualiti awesom no queri built design ear cup not comfort wear minut ear may start get pain pleas make big ear cup may feel comfort listen overal good read',\n",
              " 'amaz one problem month usb code work properli over nice product read',\n",
              " 'great headphon one best great bass beat main con bit uncomfort recommend buy head big adult nice smaall children teensread',\n",
              " 'pro vocal great love bass decent batteri hour built qualiti good look premium also foldabl con connect problem appear use terrac put phone pocket mayb due bluetooth conclus great purchas no doubt best buy even purchas suggest buy offer sale purchas read',\n",
              " 'buy colour cotton cushion look good prefer one leather air cushion sound qualiti price rang goodbass get much design recommend buy one leather cushion batteri notic cancel also gud recommend buy product sale u get cheap price plz guyz buy headphon play pubg bass heaphon disturb game u get crystal clear qual read',\n",
              " 'reciev good packag realli thank flipkart wonder experi u one minor issu found bass head cushion materi materi use blue color headset made cloth not durabl compar other color variant model read',\n",
              " 'good product boat like design headphon sound qualiti good batteri backup also good use play pubg listen music love product read',\n",
              " 'excel buy price great sound decent bass phone laptop equalis chang set listen great theatr like sound also light weight not caus much pressur wear long read',\n",
              " 'bass good brought product rs best valu money deliveri flipkart super fast deliv one day given dateread',\n",
              " 'good product cheap price even better jbl first also buyi jbl not good better itread',\n",
              " 'bought definit worth amount paid get pro high bass hd sound qualiti use poweramp music player get best headphon batteri backup use hour daili batteri backup day test limit consbut not abl make feel comfort regret buy one reason easili sort manufactur ear cushion not read',\n",
              " 'good sound qualiti call ok batteri good bass good overal goodread',\n",
              " 'total impress sound qualiti satisfi brillant nice worth valu money sound qualiti clear crystal bass qualiti superb especi dj remix song colour white geri much good look mic littl bit bad speak person not abl hear voic properli call time also fit quit good not much littl bit tight ear read',\n",
              " 'nice sound qualiti give super bass give design qualiti give excel super batteri give around hour song hear batteri backup perfect fit ultralight weight nois cancel mark averag qualiti voic call qualiti averag qualiti give mic work good aux cabl data cabl includ work fine cushion better soft overal prod read',\n",
              " 'bang buck realli great headset best headphon price build qualiti good sturdi light weight sound qualiti headphon serious good bass realli amaz think other go read',\n",
              " 'pack good receiv good condit work well sound qualiti actual crystal clear bass appreci overal nice product valu money read',\n",
              " 'decent headphon buy rs satisfi productpro good design good qualiti look good bass light weight good batteri backupcon littl bit tight dont know get wasi afta use much ear get pain problem seen mani review youtub also good ppl love bass cz normal sound littl bit straight button not feel durabl read',\n",
              " 'not good one reason headphon cover whole ear place year not comfort wear longer time start hurt tri anoth one price rang mani avail cost better read',\n",
              " 'not good packag still satisfi product worth money like much guy go itread',\n",
              " 'great budget headphon look headphon budget think twice bass head amaz batteri decent hr averag fit not good sometim feel loos need adjust overal good option design improv get star read',\n",
              " 'one best wireless headphon k bass good special boat loud mid well contain overal satisfi headphon read',\n",
              " 'realli excit headphon first sound qualiti expect bass also good main issu come comfort level headphon not comfort start feel pain ear with min use worst part return option not avail product exchang realli disappoint use good music not comfort product read',\n",
              " 'awesom bass top notch sounf qualiti great even loud speedth batteri backup also good read',\n",
              " 'got headphon rs offer say amaz well worth design build qualiti not mark quit uncomfort wear long may feel new use month may use alright not expect much either neglect see price best part sound bass lit headphon amaz listen song lover read',\n",
              " 'bluetooth connect sound bass good use aux cabl cabl bass sound low volum button not work aux cabl not good call day later ear got pain read',\n",
              " 'batteri backup ashvatthama deni die straightaway hour travel end charg work pretti well control great easi respons true wireless freedom satisfi read',\n",
              " 'hey fellow headphon awesom superb base superb built qualiti metal holder good got rs u may get fr rate salesread',\n",
              " 'decent buy music game wire give best experi last excel daili use use yr write review yr broken plastic fix tape decent not recommend rough useread',\n",
              " 'good choic best bass sound qualiti good like productread',\n",
              " 'order may day itz work properli suddenli one side speaker not work properli qualiti product work daysread',\n",
              " 'bought rs big billion day supercom net receiv within hr star flipkart superfast deliveri discount product assum box wid broken seal open surpris receiv brand new box complet seal good condit happi half time not case star packag send brand new seal box come product product good price bass ok not gr not bad e read',\n",
              " 'nice product nice build qualiti sound qualiti also batteri backup good overal product nice price bluetooth rang also good upto meter mic qualiti also goodread',\n",
              " 'use boat rockerz almost month wellz impress impress perform consid price pro good bass bass realli good realli beat not much extrem cancel audibl vocal good enough durabl know peopl rate durabl minu gotta say thing pretti durabl pretti much state got read',\n",
              " 'sound qualiti pretti good bass also good batteri backup excel mostli go outsid trust batteri stand hr build qualiti not good feel pain ear cushion no use ear feel tight make mad sometim pubg judg footstep clearli even full volum use aux cabl play pubg lil bit better overal want comfort one go costli one read',\n",
              " 'best head phone never hark base like headphon wonder perform play game pc suggest peopl buy head phone name boat rockerz read',\n",
              " 'work fine laptop well mobil ear ach use even half hour could much softer good occasion use watch full movi feel pain outer ear read',\n",
              " 'genuin review sound qualiti nice clear bass averag recommend boat rockerz build qualiti wast broke monthsmic averag not clearwhen music chang small bit disturb like show best power bass boat rockerz bestread',\n",
              " 'amaz product bass qualiti excel batteri even better look amaz come coupl cabl wich includ charg cabl anoth use wire headphon wrote one day use amaz product read',\n",
              " 'product good bass awesom think bass lover give tri let problem flipkart take much time deliv compar servic felt littl bit annoy overal product worth everi penni thank read',\n",
              " 'super duper hit bass sound qualiti best batteri backup best beauti color best money best productsread',\n",
              " 'best product reason price valu money durabl well love thank flipkart read',\n",
              " 'sound qualiti good enough consid got might find tight ear usual one bigger head fine though feel deep bass rock nonetheless read',\n",
              " 'good product got price rs phone pay discount product awesom loud bass clariti fit ear bluetooth rang smaller said descript e good deliveri n packag good batteri backup also awesom not charg sinc bought product check charg issu find not great product go read',\n",
              " 'pro excel batteri backup nearli hr good bass one wire wireless built mic play paus receiv end call good build qualiti worth price got cashback phonep con bass noth use bass boost worst sound qualiti connect mm jack need speak loudli talk someon also voic low need listen care read',\n",
              " 'first product boat headphon awesom sound qualiti amaz loud feel vibrat play music headphon come one year warranti super pack product soooooo good design build appreci even celebr use headphon headphon cheap perform incred wonder think buy found read',\n",
              " 'good minut hour usag ear cup small along small frame give high pressur ear ear headphon describ expect go uncomfort no refund bass much u miss instrument build qualiti ok simpl design ear cup fix steel rod hope last soud qualiti good superb altern ibal headsetread',\n",
              " 'boat rockerz awesom product price rang compani cannot give much qualiti price good bass awesom sound clear recommend product anyon love music read',\n",
              " 'sound qualiti amaz fantast lookbut not comfort ear size littl larg b cauz ear pretti larg pressuris ear lot cant use min read',\n",
              " 'helo friend sinc boat trend headphon accessori market mani need second opinion purchas use earphon jbl senheizz skullcandi mi till also chanc use soni wire headset product boat rickerz headset entri level headset got offer price rs product deliv within week time well pack kudo ekart better deliveri howev product box insid courier pa read',\n",
              " 'excel jst awesom product love bestread',\n",
              " 'sound qualiti good connect better not good rang within feel tight ok mic work away around read',\n",
              " 'dont know peopl give star product product given star bcoz superb bass well batteri backup extrem good watch almost two movi time use wire given appreci amount need product like write mumbai andheri atlast mumbai style ka review product bohut hard hai read',\n",
              " 'awesom product crystal clear sound superb bass buy rs money worth thank big shop day sale love favourit shop app flipkartread',\n",
              " 'base excel charg good love product lot thank youread',\n",
              " 'awesom product great experi awesom sound effect good batteri life gr sound problem takin travel cant fold flat posit problem mic not work well caller cannot receiv clearli even though good productread',\n",
              " 'gift sister rakhi happi see box qualiti got price sound qualiti good use headphon includ philip audiotechnica soni also soundmag stand qualiti audiotechnica yeah bluetooth work perfectli boat audiotechnica rs rang soundmag philip soni u buy ye ur budget stand near read',\n",
              " 'dissipoint not comfort bad ear hardli min u listen music hhhhh pain start also tight cushion not good bakwass sound quit good bass nice trebl absent mid ok type build qualiti good special plastic use con read',\n",
              " 'best headphon k realli impress batteri backup hr continu listen medium volum sound qualiti extra bass also good cushion not soft good comfort read',\n",
              " 'realli impress use ear soni bluetooth much addict n not convinc head phone mm boat rocker realli rock n use technic worth price n happi custom boat brand congratsread',\n",
              " 'realli like product awesom product seal open dirti mean use product good like would like suggest flipkart not send use product anyway headphon realli awesomeread',\n",
              " 'use headset quit comfort handi jbl think build design boat better thank flipkart read',\n",
              " 'talk sound qualiti want rate awsm qualiti deep bass peac ear design like thing much one friend own awsm product get know wonder product search sorri cant say anyth much batteri back write review within day product deliveri like product hope u shi read',\n",
              " 'good headphon built qualiti good bass super microphon not good also littl uncomfort use hour overal good headphon respect price got wow deal big saver day flipkartread',\n",
              " 'good sound qualiti reason price colour amaz volum set not much good semi comfort wear purpos good productread',\n",
              " 'great product color white green also great trust one great product read',\n",
              " 'ye good provid good bass student give ics board exam holi angel school rajpuraread',\n",
              " 'receiv rd januari packag good time deliveri use headphon around week go good till sound balanc sound bass good amount bass mani us like initi feel bass not mark later use poweramp music player magic qualiti read',\n",
              " 'thank flipkart fast deliveri sound qualiti mind blow bole pesa vasul product thank much flipkart read',\n",
              " 'good play pubg wire extra bass no build qualiti use month today broken put ear got thought good build qualiti way good headphon play pubg use wire otherwis second delay love no read',\n",
              " 'light weight stylish good sound qualiti bass better good batteri back connect low otherwis great product read',\n",
              " 'awesom product worth moneynic sound nice build nice design thing give east cup small cushion not appreci hurt ear wear long periodsread',\n",
              " 'excel headset good build qualiti hour run time sound qualiti also good price pay thank flipkart give us type sale read',\n",
              " 'decent good product price sinc use month not face issu sound sound headphon satisfi best price must say talk batteri backup headphon come good batteri long last henc use play hour daili batteri remain till daysproblemth problem face month product bluetooth rang problem common everi blueto read',\n",
              " 'product realli good realli happi bco want bajact wireless headphon everyth iss good look sometim feel simpl not cup tea u r look look u go other also praform iss gud price got rs read',\n",
              " 'everi thing good price give nice look not pain ear wear good product read',\n",
              " 'great product awesom sound pretti see nd sound qualiti good wish take product love product hr batteri life includ min approx call time awesom sound output read',\n",
              " 'sound qualiti good bass also decent look wise not much great overal prefer boat rockerz boat rockerz read',\n",
              " 'sound clariti bass averag love irrit thing not comfort hold earpiec like hell not recommend game even though hard gamer cannot use min hardli aux perfectli fine no issu bluetooth connect also irrit point use bt produc awkward sound paus play paus play video first thought read',\n",
              " 'best headphon price got steal deal go long term review buy boat mind somewher research found boat not durabl get brick joint also heavi bass kill mid high sometim exampl pubg use spray not abl hear anyth els heavi bass boat come boat read',\n",
              " 'headphon good regular use use hour cusion qualiti not decent price rang awesom better zebron zeb thunder infin jbl driver bigread',\n",
              " 'realli like headphon sound qualiti design also good comfort well howev want buy call not perfect product microphon not perfect person phone abl hear clearli read',\n",
              " 'built qualiti base colour excel foam materi hold ear made qualiti product one adjust soeaker variou direct aux cabl charger cabl provid box use aux cabl enjoy music not avail bluetooth option opt black red model amaz go may get within sale day read',\n",
              " 'product amaz good sound qualiti design built also good main point purchas microphon onlin class product mic not good talk voic not audibl receiv voic come extern disturb result fuzzi sound read',\n",
              " 'like sound headphon want white colour grey overal good good base good batteri qualiti design not well price rang good thank flipkart product fast deliveryread',\n",
              " 'reason choos one other work bluetooth aux cabl wire bhagwan na kare agar bluetooth kharab ho jae toh u still use aux cabl use wire one advantag big one other two one tight fit ear pain min mit get loosen time voic good connect work fine till bass good look good built wise short leke baat khatam karo aur kya chahiy read',\n",
              " 'bluetooth headphon realli worth money superb bass best sound qualiti build extrem unbeliev think right realli realli awesom broread',\n",
              " 'product descript page say bluetooth v actual v mean poor connect rang adjust equal set phone allow get good sound els hear bass vocal sound suppress sound qualiti good listen music bewar buy make regular voip call sound keep break nois not ideal call meet build qualiti could better read',\n",
              " 'headphon good not work reduc sound song given return back correct right make sound song not read',\n",
              " 'boat rockerz good headset perfect bass listen song although lenovo k power user dolbi atmo phone l run give good perform l like build qualiti boat alway favourit headphon compani thank flipkart seller read',\n",
              " 'purchas model boat rockerz purchas flipkart smart headphon h day comparison like flipkart headphon flipkart headphon sound qualiti much better boat base phone call voic mic good flipkart headphon experienceread',\n",
              " 'reason head phone great batteri pretti sound make happi proud purchas thank boat amaz headphoneread',\n",
              " 'nice headset good bass batteri backup great seem problem mic pretti good job noic cancel great read',\n",
              " 'best headphon good bass good sound qualiti not good batteri backup overal best headphon boat rockerz one problem low bluetooth connect read',\n",
              " 'sound qualiti realli good come adequ bass think build qualiti would much better still quit better brand provid budget batteri backup also liter well go want great sound qualiti budget read',\n",
              " 'clear hd audio without distract excel sound bass awesom theatr like experi highli recommend product bought best rang read',\n",
              " 'overal nice product bass good voic accuraci littl inaccur play song batteri backup also good rang not actual within min rang use overal good product say best valu money deal special sale littl tight ear not use day long except mention issu nice read',\n",
              " 'nice product good sound bass solid build best headphon star comfort batteri deliveri also pretti late daysread',\n",
              " 'wahooo best product boat headphon best sound qualiti deliveri late product best best flipkart parcel servic best thanku flipkart happi shoppingread',\n",
              " 'sound qualiti averag although bass good ear cushion lil bit smaller tight ear long useag bt batteri backup good enough listen song averag use although nois cancel work good overal good product go coz give best price rang read',\n",
              " 'excel product price rang featur pack headphon great bass trebl quit decent pro excel bassclear trebleseasi batteri backupl indicatorcon not recommend longer use caus becom uncomfort person experi mayb not other read',\n",
              " 'better competitor price segment way better jbl bt price k competitor term sound qualiti soni wh ch avail k big billion go advis think buy one good pair headphon go chroma relianc digit check sound qualiti variou rang headphon buy one accord budget read',\n",
              " 'one best headphon coz featur qualiti superb design also cool super extra bass wireless function also given music playback time hr like guy go thinkread',\n",
              " 'ya best devic great voic bassgreat design look person like itand tri fast deliveryread',\n",
              " 'pro sound qualiti well balanc indian music everi instrument well vocal heard clearli batteri life awesom easili last hr hr charg connect decent goe mtr without issu headphon quit sturdi headphon gave fallen coupl time consider distanc noth happen con ear cup not soft gud hr use start bother ear size fit co read',\n",
              " 'best headphon price segment best get get sound qualiti headphon love boat rockerz read',\n",
              " 'batteri backup good design also good sound clariti best bass awesom earphon snug fit mean fit accordingli head size bluetooth pair also fast overal good must buy read',\n",
              " 'headphon much good also come fast flipkart packag headphon not good enough box torn place deliveri boy say torn travel detect one star whether headphon goodread',\n",
              " 'nice one battri back great b play upto hr charg fullybass great headphon design n build qualiti not much guddoesnt look beauti n attract way sound bass battri backup much great well n satisfiact go itread',\n",
              " 'brilliant product super bass nice call experi product batteri drain good good work boat read',\n",
              " 'amaz prize product outstand love love recommend headset mind blow product read',\n",
              " 'awesom product sound loud super light weight fold almost insid one thing note chang volum wire mode wireless mode chang volum otherwis amaz product got sale best price headphon read',\n",
              " 'gave four star hum sound play track not paus music hardcor music lover abl detect thought product search saw peopl mention get wrong sound qualiti not bad hum sound also not loud okay batteri backup good connect rang averag like bl headset think green color give u read',\n",
              " 'everyth betrer sound qualiti awesom batteri backup good not excel design love look love thank flipkart thank u boat read',\n",
              " 'awesom sound qualiti begin like hr batteri backup not suffici music lover like purchas start use came know listen music hr day use almost day singl charg happi headphon everyth recommend product read',\n",
              " 'nice headphon boat super sound qualiti nice nice product mfd boatread',\n",
              " 'nice osm qualiti thank flipkart love goodread',\n",
              " 'best headphon thank flipkart sell u get price best earphon price categori pro good bass nice sound qualiti batteri backup hr pluscon take hr charg fulli felt call flicker sometim built could improv hide connect wire earpiecesoveral use jbl soni headphon one good term sound qualiti price read',\n",
              " 'sound awesom truli love batteri backup boat work well comfort make ear pain min toler littl bit pain go purchas sale read',\n",
              " 'great product great price order lot search youtub last order use u day write review review best wireless ear headphon great brand valu find con sound qualiti bass everyth great compact batteri pack awesom standbi usag use day look great stylish no pain ear must buy thank read',\n",
              " 'good wish master polit help natureread',\n",
              " 'awesom bass good sound qualiti sometim heat sensat feel ear fast deliveri flipkart valu customersread',\n",
              " 'month use headphon absolut no complain regard headphon sound qualiti builtwis feel littl tighter use long time deal not issu love product batteri backup look good batteri backup blindli go disappoint mic qualiti mean liter suck even talk highest tone v read',\n",
              " 'averag product good enough price rang pro excel bass excel rang excel batteri backup excel ear cushion decent build qualiti good volum con mic useless place bad posit cannot catch voic mouth pick unwant surround nois make pathet person talk understand anyth say click sound happen play bluetooth especi volu read',\n",
              " 'good product qualiti music not good bass well total best product best product batteri backup good got rupe offer side head phone packet dustedread',\n",
              " 'write review almost year purchas headphon excel budget headphon howev no extra bass advertis sound qualiti low price bought headphon bbd sale realli good wireless connect also good along good batteri backup headphon grip headphon head realli good even sudden head movement enjoy music rhythmicli bob head head read',\n",
              " 'receiv day open box put head know happen next surpris sound qualiti good sound qualiti feel like watch movi theatr know headphon perform much better glad get realli headphon prove taglin boat plug nirvana thank boat flipkart read',\n",
              " 'bought big billion sale rs headphon work far good bass not much mention advertis consid price good feel vibrant bass bass boost song no amplifi system bass everi song comfort good user new ear headphon feel pain usag that normal bass come true headphon stick ear tightli that headphon read',\n",
              " 'reviewpro materi good nice sound design color good batteri back also good bass good bass boost song youtubecon tight ear take everi min bass littl high priceread',\n",
              " 'everyth thing good connect bluetooth make voic call hear perfect voic make low not audibl opposit caller think mic not work wellread',\n",
              " 'ok give detail review boat rocker review month pro light weight similar carri page notebook sound qualiti best level especi bass simpli superb nois cancel top travel local train often sat near window seat use headphon one day total amaz nois cancel unabl hear littl bit sound run train dual work mode th read',\n",
              " 'sound qualiti superb bass lover like given price tag one ask anyth better reason give one star less use bluetooth mode microphon work mild disappoint read',\n",
              " 'bass not good like digit return impress flipkart refund hour money deposit bank account polici impress flipkartread',\n",
              " 'overal good headphon great build qualiti start littl bit uncomfort ear comfort nice headphon go withread',\n",
              " 'awesom product awesom bass recommend everyon buy bass good batteri backup awesom final sound clearread',\n",
              " 'headphon much tight ear boat think ear made real rock no human use headphon sound qualiti good comfort okok batteri also okok price good deal booght read',\n",
              " 'price rang product sound qualiti good crystal clear bass also deep product durabl batteri life also good shipment hd taken time approxim day get cool product mind settl thank u boat creation thank u flipkart ur good servic read',\n",
              " 'review product followingsound qualityit good sound qualiti great bass even maximum volum headphon start vibrat ear vibrat due good bass effect sweet tone supress fan sweet clear music product littl disapoint ar fan rock jazz ang high bass music great nois cancellationwel nois cancel good listner read',\n",
              " 'amaz sound super bassbatteri life excel aux cabl great qualiti excel trebl base everyth good except design ear pain use hour continu otherwis great buy got offer read',\n",
              " 'issu bluetooth rang support upto fit call fit song get voic breakmic not good call use music n enjoy nice sound qualiti base read',\n",
              " 'rate product accord price got price price th best avail bluetooth headphon tha market use month still batteri backup like hour full volum audio qualiti awesom price rang descent low mid perfectli equalis high ye perfectli fit no uncomfort read',\n",
              " 'awesom product guy go believ bass awesom fab mind blow not would also like thank flipkart awesom deliveryread',\n",
              " 'perform good sound qualiti batteri backup charg time qualiti materi good except littl tight ear due cannot wear min due sold everi one differ size head except problem goodread',\n",
              " 'deliv day promis flipkart big up servic come product music produc use audio gear compani like jbl skullcandi sennheis etc noth match boat balanc trebl bass headphon perfect last hr charg hr strong durabl one downsid could find comfort aftr wear around hour ear start pain altho take break read',\n",
              " 'amaz product guy enjoy month sinc brought still sound qualiti remain superb great custom support deliv door step servic read',\n",
              " 'love headphon awesom base awesom sound qualiti buy headphon octob use month review price order itom pretti satisfi till give star read',\n",
              " 'paid complet satisfi batteri backup whole anoth level great headphon great batteri backup oh bass superb love aux cabl read',\n",
              " 'one best product ever use realli want say must buy enjoy everyon beauti product ever use headphon not compar product one thing want say love read',\n",
              " 'bass amaz feel like listen long time pain ur ear start feel use min afterward ur ear feel pain anyway awesom product clear voic phone call also clear read',\n",
              " 'first review flipkart first purchas boat rockerz wireless headphon want decent surround home theater feel excel clear crisp beat around mood listen good music think twice obvious pick product stock end glad product within price rang issu product minor settl within day usag also read',\n",
              " 'best headphon ever use lightweight nice build qualiti superb bass loud time best part nois cancel featur ice cake love product much read',\n",
              " 'nice product super sound qualiti battri backup awesom work hr one time charg bluetooth connect rang not good overal nice product call not work properli read',\n",
              " 'good base clear audio look attract stylish good product price rang batteri life also excel mic not great convers read',\n",
              " 'great headphon nice sound qualiti bass conveni carri perfect snuggl fit around ear got great bargain flipkart sale read',\n",
              " 'excel product high qualiti sound clariti crisp high bass perfect rang wireless better jbl moto etc fit well n superb n soft cushion read',\n",
              " 'awesom got flipkar big sale good bass sound qualiti better skull candi jbl price rang bluetooth connect awesom upto rang without obstacl good batteri backup upto hr read',\n",
              " 'got headphon price rang headphon sound pretti awesom base sound abl differenti higher end headphon best part base produc amaz read',\n",
              " 'around sound build qualiti good except bluetooth connect connect poor take much time connectand take headphon differ room leav devic behind bluetooth connect go lost room connect work properli read',\n",
              " 'tight pain min usag compat mobil phone not good tri zenfon pro honor view mobil volum button not work expect button alway chang song call clariti actual worst tri almost differ devic voic alway get disconnect good point see audio qualiti bass good listen song read',\n",
              " 'initi think return flipkart approv felt keep anyway pro sound good bit bass vocal clear alway depend music video file media player ex flac audio file poweramp player hd video dolbi atom batteri last hr charg full hrscon feel tight get use micthat month anyth happen postread',\n",
              " 'nice head phone red n black combin look good sound qualiti nice impress bass not good call purpos poor mic person opposit side cannot hear voic properli good batteri backup headphon tight ear difficult use longer time read',\n",
              " 'nice product high bass qualiti headphon no ear damag no heat problem long use charg hr give long backup e near hr pleas avoid charg good batteri backup nice good product peopl want enjoy music word choos one best product read',\n",
              " 'pro good sound qualiti not much better local simpl earphon nice connect utna bhi nahi con ear pain use around min need soft materi speaker soft part read',\n",
              " 'good product good conect good sound good batteri backup use three day problem reagard fit pain wear fifteen minut think everi rather go ear ear headphon trust headphon not comfortableread',\n",
              " 'thank flipkart good packag safe deliveri headphon awesom not say spec mention everyth fantast except comfort listen hour nice overal nice choic listen not profession also u expect price rang awesom price go sure love read',\n",
              " 'product good vocal clariti not good price rang goodread',\n",
              " 'first would like appreci deliveri time within day got product deliv result product good expect though found product avail lower price websit prefer flipkart trust flipkart deliv duplic refurbish product thank flipkart read',\n",
              " 'amaz sound excel charg pickup good model thank flipkart read',\n",
              " 'receiv quick deliveri flipkart headphon light weight foldabl make easi carri sound qualiti decent bluetooth connect good neget aspect devic call qualiti terribl hear person microphon devic poor audibl end definit support handsfre call tri use cabl call improv much read',\n",
              " 'bought may june complet stop work charg work not connect charger audio not clear either not recommend buy product rang go earphon rather headphonesread',\n",
              " 'love product muchi like bassand beat love thnx boat flipkartread',\n",
              " 'best boom headset ever price rang great sound qualiti dual mode wire wireless us awesomeread',\n",
              " 'excel bass great sound easi connect solid design littl bit uncomfort got good qualiti long aux charg cabk got must buy price also boat great servic read',\n",
              " 'month bought honest review materi qualiti pretti good mic not good talk phone one easili hear song u r play anyon nearbi youread',\n",
              " 'honestli product great good sound qualiti light durabl bodi reason price batteri back good featur great quit tight painful ear use long hour day get use opinion best product anyon get price excel qualiti give tri thank boat read',\n",
              " 'say use product day bit tight like infact not use min fit good design awesom sound qualiti fabul bass also good strongli recommend product like listen music goread',\n",
              " 'get better output aux cabl bluetooth mode honor lite use redmi note output bluetooth better auxread',\n",
              " 'pack boat headset awesom qualiti like beast flipkart make good progress pack qualiti check bass fabul comfort use thank deliv boat headset super speed headset order came hand keep flipkart faster deliveryread',\n",
              " 'awesom product price rang sound perfect bass unsatisfactori weight light weight access good comfort foldabl adjust ear cup cushion carbon black black red blue cushion fabric not comfort ear bit scratchi grey green cushion fabric scratchi read',\n",
              " 'superb bass price rang suitabl laptop nice pubg voic also clearread',\n",
              " 'headphon awesom may feel inconveni headphon tight may uncomfort upto day come sound qualiti good bass awesom u listen use wire bass high compar bluetooth slip head even u run final good product give rate read',\n",
              " 'sound qualiti bass amaz headphin clear high mid amaz impress premium look matt black finish thin red line amaz thing headphon valu moneyread',\n",
              " 'day experi good headphon awesom qualiti sound biggest thing also connect wire best featur not satisfi base star give starread',\n",
              " 'thank much flipkart excel product budget ok thank much flipkart team super bass sound qualiti excel tqread',\n",
              " 'pro batteri last long day bass good price attach cabl batteri dead connect fast bluetooth con wear minimum minut ear hurt sometim give connect problem sometim hear littl beep sound connect bluetooth audio qualiti not good bass lover liter hear vocal sometim read',\n",
              " 'batteri backup awesom design good work well distanc feet connect easili easi use well read',\n",
              " 'sound qualiti awesom bass unbeliev compar also pretti look give star excess bass littl uncomfort design continu use hour becom littl uncomfort nois cancel quiet good price segment keen lover listen song better chois read',\n",
              " 'worth money headphon peopl metal ear pain long use cushion soft arramg soft bluetooth rang not expect much not suitabl bluetooth call small dot sound audibl use low volum whenev notif come phone dot sound produc better use aux cabl read',\n",
              " 'best one one cool featur cabl connect option handi devic run batteri voic guidanc anoth cool guy blindli go got everyth need worth everi penni paid sound also best class spend hour sure find better price rang read',\n",
              " 'nice one write review use month get problem till date headphon definit recommend everyon buy bought cheaper price thorough flipkart nice sound nice bass nice bluetooth rang kept line line headphon nice look nice batteri backup definit use contineusli least hour best part get aux cabl support read',\n",
              " 'satisfi headphon qualityto tell actual headphon base centric mid high lack bit regularli listen silent bollywood song not choic edm lover sure purchas best comfort foam earpiec soft ear bit larger may hurt not wear thse hr rest no issu rang pretti good till feet seem less experi bit loss soun read',\n",
              " 'product good bass sound clariti superb call answer option wireless best one got boat look wirless headset long time prize bit higher time wait offer period luckili got best buy almost k mi second purchas boat keep qualiti maintain time satisfi purchas recommend everyon look read',\n",
              " 'fabol product got watch mani review youtub product final purchas inrand got superlight weight accessori deliev crisp clear sound perfect bass balanc also wireless conect aux cabl fullfil condit batteru backup mention box ie hour go blindli instead buy jbl moto puls puls max read',\n",
              " 'great headset fantast bass wireless capabl good batteri backup simpli superb use call pleas avoid inbuilt mic bad expect not comfort definit make ear pain get much price problrm might not seriou overal great headphon read',\n",
              " 'awesom bass awesom sound comfort ear problem bluetooth connect weaken frequent get jump lyric sec listen song avoid got irrit occur coupl number time ohh batteri last long enough return product might manufactur defect order boat wireless let see one goe read',\n",
              " 'hi guy recent brought headphon use headphon decent price rang got buck optim sound achiev equil pair fairli easi batteri also decent ear puff not comfort littl bigger softer puff would great build qualiti also fairli decent issu face microphon other not abl hear proper read',\n",
              " 'want got inr serious love product boat team done except well thump provid stellio along bass one listen highli recommend product kudo team boat repeat review deduct star pain caus ear type headach listen min guy need work structur comfort headphon hope get rude read',\n",
              " 'awesom highli recommend one use jbl soni one far better find better wireless headphon k bass sound clariti awesom amaz u play wire read',\n",
              " 'accord price good product sound qualiti realli amaz sound depend cell phone sound use gione give good soungd deep bassbut rang bluetooth bad work less meter distanceread',\n",
              " 'light fit perfectli tight head good bass not audiophil thumb rd day deliveri form purchas day sound superb great bass coz k note bluetooth work good batteri backup also good easili u play movi music upto hour take hour charg thank flipkart read',\n",
              " 'headphon awesom bass crystal clear music batteri backup hour say confirm best headphon headphon bass beat also small sound clearli envent headphon acoust hear music deep headphon best rap song listen read',\n",
              " 'purchas headphon around rs freedom sale flipkart thank super fast deliveri alway bluetooth headset great sound bass not great ok importantli batteri life awesom bluetooth headset batteri life alway concern perfect term batteri also one good thing u receiv call well also u get aux cabl case u want use ur mobil read',\n",
              " 'item sound not good refund option not avail plz go item totli wastag timeread',\n",
              " 'not satisfi product compar pro con con greater pro build qualiti not good difficult carri sond good not loud bass not enough song nois come song chang time total not satisfi productread',\n",
              " 'use headphon year well work fine aux cabl keep break replac twice work fineread',\n",
              " 'sound qualiti good though answer call via bluetooth disturb bit tight though wear long without pain sound qualiti good though compani work qualiti comfort bit batteri backup good read',\n",
              " 'headphon absolut garbag use month alreadi one side stop work disappoint read',\n",
              " 'nice headphon thing bass batteri etc good nice condit came read',\n",
              " 'disappoint sound qualiti deliv good bass batteri backup good honest also good comfort cushion ear interest sound qualiti better look jbl soni read',\n",
              " 'sound clariti good bass super extrdinari build qualiti nice super product like itread',\n",
              " 'excel product good sound price good qualiti nice product light wate like headset work full work jack bluetooth talk headphon power speaker read',\n",
              " 'write review use one week happili say headphon awesom sound pretti good bass design also good import thing perfectli tight ear much worthi product price rang got sale price enough buy product believ go never regret rang read',\n",
              " 'look design simpli awesom headphon day receiv item glad use feel sound flicker hang increas great extent rang connect not decent got either disconnect hang meter rang room unfortun return product get refund want replac one thing opportun take decis go read',\n",
              " 'one best headset price rang thing like capabl wire connect batteri charg use cabl provid believ sound qualiti better wire connect compar bluetooth would definit recommend buy one best rang read',\n",
              " 'nice design good product sound nice wire wireless aux not connect dell laptopread',\n",
              " 'almost nice good product nice audio clearanc sound qualiti bass power batteri backup read',\n",
              " 'u like ear headset u buy boat rocker best headset love read',\n",
              " 'first china product button delic connect smart tv voic not clear sometim hear side also excel bass begin think not origin boat headphon read',\n",
              " 'nice satisfi product sound qualiti time superb support bass till listen read',\n",
              " 'awesom qualiti headset nois cancel bass good best listen music build qualiti good littl big good got write review week valu money read',\n",
              " 'nice product batteri backup nice sound awesom bass superbread',\n",
              " 'got son onlin school find help far pro look goodsound qualiti goodfit well heatcon speaker mic not clear time voic breakingcontinu usag caus ear pain discomfort take break volum control button work wellread',\n",
              " 'fast good pro good sound qualiti good bass good batteri life con microphon not good wire one may posit sometim voic not audibl receiv end otherwis excel product worth money read',\n",
              " 'product good deliveri not nice best suggest not order flipkart take time deliv product box open receiv read',\n",
              " 'experi headphon not good speaker qualiti good base bluetooth connect paus play music creat distort beep sound play music microphon qualiti headset got bad person cannot hear properli phone call hear distort sound place overal mic qualiti bad design great feel classi head read',\n",
              " 'purchas product good deal excel audio thump bass great batteri amaz product would suggest everyon buy awesom headphon read',\n",
              " 'bought one half year still work good no problem nice product boat bass good plastic qualiti improv recent broke no problem speaker awesom product must improv plastic qualiti pack good thank flipkartread',\n",
              " 'product realli good product price rang use last one week think give hour batteri backup base good overal sound good talk design look excel white green combin product look realli premium one anoth good thing foldabl make easi carri overal product realli good product price rang read',\n",
              " 'use day found nice product buy good sound good bluetooth rang usb cabl also given overal good product buy averag price rangeread',\n",
              " 'kk first thing good qualiti use abt week no issu far sound qualiti awesom like theatr also batteri backup good use hr straight no connect issu problem fit tight hurt hear due prolong usag possibl give rate recommend u guy go black one becoz cloth like textur h read',\n",
              " 'love product nd thank u much flipkart chip price boat rockerz bluetooth headset nd bass ifect awsm nd sound also goodread',\n",
              " 'boat rockerz headset realli awsom sound qualiti ba everyth ri nd ur flipcart servic also awesom amravati guy come deliveri good guy deliverd deliveri time read',\n",
              " 'sound qualiti jabardast call not bcz like dj sound call music purpos good like dj bateri like hour super bateri life read',\n",
              " 'realli like sound like design like batteri backup good product no wastag money read',\n",
              " 'highli ultra deep base sound feel like vibrat good batteri backup standbi upto hour good sound qualiti light weight like gram wear cool design easili foldabl carri outread',\n",
              " 'nice product cool total save desgin headphon sound qualiti perfect comfort fold box total price compers much better product read',\n",
              " 'boat rockerz sound qualiti perfect bass awesom batteri life good u see desgin headset not good not comfort u start use hour ur ear start sweat u feel uncomfort lock ur ear tightli u loosen fit ur ear start slip overal good product low cost boat tought design first read',\n",
              " 'nice headphon excel sound qualiti easi toggl comfort well worth price say read',\n",
              " 'bass sound aswsom not face issu sound bass awesom feel like djparti best woofer bass mindblow comfort level lottl low boat make headphon oval shape circl that ypu eye start pa within min use month mayb get loos boat make shape littl oval style perfectli fir ear read',\n",
              " 'although best market worth everi penni inr never buy cool headphon must buy one best sell product flipkart ye dont forgot free cabl plz like reviewread',\n",
              " 'everyth nice headphon design qualiti like premium seem littl tight howev good product priceworthi one must buy price rs read',\n",
              " 'awesom use headphon last month worth everi penni problem wear long use otherwis best spend time listen love read',\n",
              " 'best sound qualiti perfect bass build qualiti not good aux cabl defect led light not good read',\n",
              " 'good product afford price smooth sound music bass moder feel good listen read',\n",
              " 'product awesom design perfect everyth ok audio cabl long brand usb cabl feel like heaven read',\n",
              " 'headphon love much upto everyth want clear loud sound high connect bluetooth tri phone laptop seem perfect devic red colour varient classic design feel standard get one aux cabl also allow us use wire also instead bluetooth use aux cabl charg low main factor e batteri long backup upto hour surpris product read',\n",
              " 'good headphon afford pricebut limit poor bluetooth connect mean hardli meter rang averag batteri life charg everi hour usageotherwis good headphon price rangereview written month regular usag u reli thisalso deliveri servic flipkart awesom deliv product befor time read',\n",
              " 'good design sound qualiti batteri backup pain free ear headphon consrang not good enough hardli feet also go behind half wall dropscannot connect multipl devic laptop phone like othersread',\n",
              " 'amaz product sound bass awesom batteri backup great go without hesit love headset use month tnx flipkart read',\n",
              " 'nice product strong light weight also fit yr son class enjoy onlin classesread',\n",
              " 'not sure feedback valuabl boat compani reach give feedback make sens great sound not much clear call decent import littl softer grip skull tight read',\n",
              " 'awesom bass sound qualiti good batteri long life purchas rs realli grate product forget likeread',\n",
              " 'hear lot thing fact sound qualiti realli awesom bass excel look design perfect yaar bass dil chu liya pubg v buht mast kaam kar raha hai latenc time perfect micro second matter one thing play pubg set volum moder level otherwis due high bass ear get pain headach sound qualiti lajawaabread',\n",
              " 'receiv today thank fast deliveri first second time purchas headphon rang headphon like dream read',\n",
              " 'love headphon amaz super easi use would person recommend much one problem work meet googl meet cath voic especi meet laptopread',\n",
              " 'bought headphon june day use far batteri backup superb price segment sound bass crystal clear nois cancel work well small complaint regard design wear hour ear star pain due small ear cap tight build overal good product peopl compris ear pain read',\n",
              " 'valu money excel sound qualiti mic realli good person hear voic low pitch although everi thing perfectli fineread',\n",
              " 'headaphon amaz qualiti boat promis give borrow day back love sound qualiti bass valu money sound clearanc design nd batteri power best compar other brand read',\n",
              " 'amaz produt price super sound qualiti bass also soooooo good produc use bluetooth wire supp productread',\n",
              " 'person like boat brand purchas design sound con fit mic not work properli not comfort ear btw overal good product purchas rs covid lockdown read',\n",
              " 'go nice sound good clariti fastest connect read',\n",
              " 'genuin repli feedback batteri backup stand expect hardli work half hour mostli like colour design isnt comfort cushion hard ear hold minut litter not use devic rather would refer buy muve aucost headphon rang way comfort cushion backup hour stun detaail musicread',\n",
              " 'awesom built qualiti might purchas no offer spent may coupl hundr worth everi penni easili connect via wireless latest devic laptop good rang clariti use rough tough use read',\n",
              " 'batteri backup okay gener give hr usag full charg batteri die number time notifi get irrit abl listen anyth except notif batteri low microphon perform realli bad seem like talk distanc ear pad small comfort use min want use hour not good start hurt read',\n",
              " 'mic not work properli especi call sound qualiti good bass excel good buck batteri backup mark final good product read',\n",
              " 'use yr satisfi product sound qualiti awsom loud lover bestread',\n",
              " 'sound qualiti way gud review non function side use aux cabl surprisingli side work love also support smart tv read',\n",
              " 'awesom sound bass made plastic okey use good qualiti perfect price iam happyread',\n",
              " 'stuff realli great price rang write review use week pro superb bass realli super extra bass sound qualiti great great clari design awesom great look whether wear keep neck aux cabl real help liter need think much batteri side batteri life awesomecon headband tight make uncomfort use read',\n",
              " 'product cool sexi look cushn not much goodbass nice qualiti sound grtover nice product read',\n",
              " 'review week usag one top qualiti product boat nice sound qualiti amaz bass although got issu regard connect keep asid awesom product read',\n",
              " 'nice product even pack good even day deleveri love product thank u vri muchread',\n",
              " 'nice flipkart l love manag thank much gave nice productread',\n",
              " 'good sound qualiti good product easi connect bluetooth prefer buy read',\n",
              " 'write review day usag sound qualiti rich impress along bass make feel music nois cancel also great batteri backup excel although found littl discomfort ear hr hr continu usag headset littl tight overal great headphon consid price rang great job done boat thank flipkart read',\n",
              " 'earlob hurt even minut usag bass loud good think one go ear model better feel music nois cancel batteri backup dual usag mode especi good devic even mic no problem suchbut highli doubt build qualiti suspect last long definit pack suitcas carri bag lest break safe place neck overal serv purpos b read',\n",
              " 'nice head phone sound qualiti good batteri back also fine goe hr con found ear bud small continu use may lead pain ear build qualiti also strong nice product iam proud not china product made india product boycotchinaread',\n",
              " 'not worth money not month aux cabl got non function sound qualiti like headphon avail footpath market electron product seller train batteri strong backup u use upto day without charg hold min ear caus muscler pain play game like pubg connect bluetooth sound effect lag time pro batteri backupnois cancellationcon sound qualitybuil read',\n",
              " 'good qualiti boat rocker best headphon bass qualiti good thank u filpkartread',\n",
              " 'good bass sound qualiti good best clariti enjoy wire mode bluetooth mode sound qualiti wire mode sound qualiti valu money read',\n",
              " 'cannot better product low price love use buy without doubt not seen lack till full qualiti well good sound jay hind read',\n",
              " 'best headphon regular use use till date point know buy strap get lossen pretti soon bluetooth good rang not good problem not big recommend product everi oneread',\n",
              " 'use month bass excel like nois cancel headphon sound good sometim right one make troubl connect bluetooth due wireprovid no defect occur connect bluetooth overal nice stylish headset experi music ignor world read',\n",
              " 'valu money nice bass look pretti good price segment realli bass punchi recommend buy mi phone connect aux sound enhanc veryy good productread',\n",
              " 'honest review boat rockerz product realli awesom u buy headphon play game song etc batteri life hour charg time hour also extra bass not problem sound realli awesomeread',\n",
              " 'headset look good sound qualiti also good rang within next minut wear hurt ear first use frustrat spend time use boat found perfect way wear overal good headphon learn perfect way adjust ear read',\n",
              " 'excel sound qualiti good work well must buyread',\n",
              " 'best bluetooth headset ever use word describ product love go love itread',\n",
              " 'materi qualiti best well sound bass superb lockdown receiv order within dayread',\n",
              " 'mic qualiti not good headphon realli nice love sound qualiti bass qualiti good nois cancel mic better call experienceread',\n",
              " 'good product price sound qualiti good experienc issu use month whenev watch video sound goe mute rewind video unmut give extra wire headphon along usb design rock well built key okay improv littl bit batteri life good start drain frequent littl long use read',\n",
              " 'truli happi flipcart head phone extrem work good best prize rangei would like recommend u guy go head phone read',\n",
              " 'superb sound nice everyth blockbust product thank much flipkart love read',\n",
              " 'quit rock solid perform sound qualiti better compar product market definit worth buy took lot review read happi purchaseread',\n",
              " 'bass heavi expect like premium headphon sound qualiti good not excel good deal buck read',\n",
              " 'use day readi say someth boat rckr design sound qualiti bass batteri backup super condit use full day charg one half hour product abl give full day batteri life perform btri go low thn dont take tnsn abl use aux cabl short product best amount go read',\n",
              " 'love headphon great qualiti perfect colour combo super extra bass effect handi read',\n",
              " 'extraordinari sound feel ur top world good work boatread',\n",
              " 'good bass good sound use best playingread',\n",
              " 'good product bass clear feel comfort wear got day order fast deliveri read',\n",
              " 'use headphon month month band break band qualiti low better u buy good qualiti headphon till month run realli fantast disappoint band qualiti u go headphon better bluetooth version also low read',\n",
              " 'nice product worthi money batteri backup realli good month good backup sound goodread',\n",
              " 'comfort look awesom sound good bass good accord point view good music lover batteri awesom happi product use first give feedback use monthread',\n",
              " 'superb qualiti littl bit tight bluetooth connect averag bass clear high u want good sound qualiti good bass wireless headphon go read',\n",
              " 'nice headphon unabl make clear convers caller abl hear voic clearli side not possibl better u purchas boat headphon rang without bluetoothread',\n",
              " 'best ever headphon ever bought sound qualiti awesom design also cool worth everi penni compar skullcandi read',\n",
              " 'sound good decent bass good batteri backup got special price rs worth money noic cancel bad other cannot hear us noici place travel overal good product price rangeread',\n",
              " 'not suitabl call call get lot noic not abl hear audio clearli side not good call good enough musicread',\n",
              " 'auxiliari cabl work good overal product good suffici charg good sound qualiti good blutooth rang read',\n",
              " 'loo comfort one not choic short ear recommend buy sound qualiti fabul read',\n",
              " 'sound qualiti pritti good cushion head rest batteri backup liter amaz build qualiti perfect give premium effect bluetooth rang also good outdat version sound cleariti amazingread',\n",
              " 'everyon need good pasawasoul bluetooth headphon goe boat rocker use year sound base qualiti batteri stabil wonder recommend buy time special discount read',\n",
              " 'ulitim sound base like easi foldabl sound qualiti good batteri time strong thank boat make good awesom product made love boat item read',\n",
              " 'headphon awesom perform superb absolut recommend buy sound qualiti excel bass also awesom built qualiti total amaz best headphon ever valu money also read',\n",
              " 'awesom sound qualiti batteri backup amaz comfort look wise love productread',\n",
              " 'awesom product awesom sound qualiti deep bass person opinion buy reason price thank flipkart awesom product read',\n",
              " 'good connect problem call alway lag sound qualiti excel base realli much excel batteri backup good good bcz old version bluetooth mayb call lag read',\n",
              " 'good qualiti good style great experi bass boost wireless comfort pubg also search good wireless wire headphon best headphon love read',\n",
              " 'love boat rockerz batteri backup amaz fit also perfect earcup easili adjust bass also good also love color like almost everyth headphon wear gym everyday sweatproof remov wipe sweat get accumul earcup incom outgo call facil amaz overal best buy read',\n",
              " 'good experi got headset wich onsid litl sound low bass extrem good good experienceread',\n",
              " 'well use month worth rs sound qualiti pretti good look also good although bit tight ear initi would say loosen fit comfort level sound actual good bluetooth rang bad loos connect u get room mic also work properli sometim get inr go although compar mivi headphon read',\n",
              " 'omg valu money product commit compani bass awesom build qualiti good budget buy headphon person recommend u go nice productread',\n",
              " 'headphon good order twice best bass sound qualiti look headphon good look desir read',\n",
              " 'superb headphon sound clear speak person inbuilt mic ok use hr bluetooth also inbuilt aux output overal awesom speaker thank provid headphon thank fast deliveri read',\n",
              " 'mind blow awesom brilliant gadget perfect travel light easi carri charg super fast sound qualiti amaz price itread',\n",
              " 'worth buy super power super base total budget friendli handyread',\n",
              " 'nice product truatabl brand boat batteri qualiti phenomin bass decent audio also averag worth buy ho itread',\n",
              " 'express good good enoughsound outstand bass outstand batteri backup outstand everyth outstand productread',\n",
              " 'great wireless weird use bass great work good devic batteri backup also good max sound gave hr backup read',\n",
              " 'good pain ear smooth ear compat although sound bass qualiti better product rang read',\n",
              " 'almost year purchas april work date use first time one drawback gave star mic not good call play game work awesom call voic not clear side rest assur best headphon price rang would tell go read',\n",
              " 'super sound awesom bass good dj song batteri back also good got aginst rs realli realli nice headphoneread',\n",
              " 'overal product nice look stylish light weight sound qualiti also goodread',\n",
              " 'day use im write review first amaz product boat perform sound qualiti awesom bass kick ear build qualiti good wear ear think wil break easiley nop strong build qualiti assur pro bass extrem battrey backup super build qualiti cool con realis ear pain minut first time becom comfort reciev read',\n",
              " 'buy child like much also good play royal battl game also like much read',\n",
              " 'good product write use month satisfi love itread',\n",
              " 'u want buy listen song superb mind blow u want buy call not good bcoz sometim u talk clear wise u buy itread',\n",
              " 'realli perform good son like much best qualiti love product flipkartread',\n",
              " 'good product trust productread',\n",
              " 'veri good night fast deliveri good product sound base well batteri backup good goodread',\n",
              " 'pro amaz sound qualiti headphon bass outstand would say boom boom dhamaka batteri backup good enough play continu song upto hour con aux cabl good qualiti cushion comfort design could impress opinion regard well overal good headphon rs purchas sale read',\n",
              " 'year use review sound top class mike audio somehow not clear reliabl product read',\n",
              " 'bass good listen music super make call person not hear well not suitabl call read',\n",
              " 'superb bass superb qualiti perfect grip easi pair sound qualiti superb like product read',\n",
              " 'good product worth money buy rs boat rockerz better one read',\n",
              " 'honest review use coupl day pleas rememb buy headphon pro superb bass sound qualiti nois cancel superb use bu abl hear sound come outsid price product realli low price get product good look definit awesomecon bluetooth connect poor bluetooth version lag sometim might feel small g read',\n",
              " 'think decent averag headphon moder sound bass max hr batteri sustain accord usag well quit comfort wear carri huge drawback headphon microphon work not nois cancel headphon read',\n",
              " 'think headphon par beyond expect good way caus expect strong bass sound qualiti premium afford price love design give sporti look easi carri kudo boat manufactur team thank lot flipkart offer rs bass lover best buy afford price read',\n",
              " 'realli good experi boat rockerz good qualiti sound bass imp thing headphon easili foldabl nd easili pickup exercis game time realli thnx boat compani beauti product nd wish u definit make differ headi best head keep guy one problem time face call time voic break nd not clear voic hear next everyth good see u read',\n",
              " 'boat rocker typic budget friendli purchas got rs definit worth valu say bass great support well might tight ear first day perfect valuabl product read',\n",
              " 'boat rocker best choic buy buget headphon bass nice bulid qualiti also good not comfort long period useread',\n",
              " 'amaz deliveri flipkart simpli superb product love clear sound clariti nice bass worthabl price read',\n",
              " 'wow headphon super super voic batteri also good best headphon got rs wow cheap thank u flipkart love flipkartread',\n",
              " 'suburb amaz product love suggest buy boat headphon flipkart nice seller fast deliveri ekartread',\n",
              " 'boat rockerz product good littl bit disappoint hardwar made strong otherwis product awsm sound qualiti superb bluetooth rang also good bass superb feel song headphon love itread',\n",
              " 'stun product look phenomen compat head come top notch qualiti reason price tag read',\n",
              " 'volum person besid also enjoy song lol bluetooth qualiti not good put mobol pocket bag music becom glitchi anyway good price though better bluetooth qualiti sound concel qualiti suggest increac budget one fine price read',\n",
              " 'awesom best bassit pretti light weight trebl coolabov best budget headphoneread',\n",
              " 'good product realli happi flipkart servic area product also nice base goodread',\n",
              " 'mind blow product realli sound qualiti nice bass also nice like pro dj disk jockey headphon also use music system aiwa soni corpor design build qualiti headphon excel batteri backup thank flipkart much read',\n",
              " 'honest review sound good base awesom maza jayega mic work properli weak read',\n",
              " 'well everyth good sound qualiti good call onlin call sound becom less well qualiti otherwis other thing mark design height adjust read',\n",
              " 'bass good sound qualiti awesom also depend smartphon price great product aux cabl provid help play game great sound qualiti comfort read',\n",
              " 'wonder full product happi way work sound qualiti continui use longer period ear hurt deliveri flipkart timeread',\n",
              " 'perfect one whose look balanc audibl better bass experi enhanc rich music extra bass not distract good qualiti sound happi product read',\n",
              " 'sound qualiti great also compact size make easi usag travel love read',\n",
              " 'amaz headphon use mainli game minim zero latenc hear everi detail game realli help portabl build not best would say definit not lightest wireless headphon around confid worth money sometim use laptop use mm cabl happi read',\n",
              " 'better product good sound qualiti two way useabl thank sellerread',\n",
              " 'pretti good everyth fine thing order th decemb show would reach th decemb th decemb got decemb almost lost hope product thank god got thisread',\n",
              " 'first flipkart deliv agent behavior good reliabl secondli boat headphon qualiti durabl good far aspect ed fascin also lastli thank flipkart grate product deliveri recommend everyon buy product read',\n",
              " 'pro good qualiti materi use handl day day use easili good qualiti sound bass ok con rang low connect problem crowd place like bu train best price rang read',\n",
              " 'great headphon afford price segment muff tight u first use go get better time get adjust read',\n",
              " 'got one defect product first time return order new one seller dont replac polici unabl hear sound one speaker first purchas new one arriv shock mind blow super bass crystal clear sound work without bluetooth connect aux cabl suppli also got charg cabl charg cabl not mark cheap receiv parcel origin product bo read',\n",
              " 'best price rang one side stop work month replac boat compani good one worth read',\n",
              " 'nice product boat best bluetooth handset price love soo much highli recommend thisread',\n",
              " 'good headphon comfort factor realli good advantag use wireless wire overal great valu money read',\n",
              " 'first time give review friend believ good product everyth fine good feel happi purchas read',\n",
              " 'nice headphon bluetooth rang kaam hai long distanc work sound qualiti best batteri also good thank flipkartread',\n",
              " 'headphon qualiti super base panchi clear clear sound love qualiti headphon bluetooth connect also good charg time also less charg hour better sound better qualityread',\n",
              " 'good sound excel bass good design adjust batteri back upread',\n",
              " 'good headphon bluetooth nice sound not adjust proper head read',\n",
              " 'colour qualiti awesom size small wear long time month usag get comfort nice product buyyread',\n",
              " 'awesom qualiti sound btri backup good well price best headphon read',\n",
              " 'overal good bluetooth headphon rang talk phone use headphon opposit person get voic clearli time receiv not get littl reason return tri day otherwis good listen song read',\n",
              " 'nice headset super sound super base qualiti good batteri backup overal goodread',\n",
              " 'sound qualiti truli amaz cant use hour ear start pain not comfort fit bluetooth fine music dorsnt work properli watch video bluetooth mode buffer problem read',\n",
              " 'sound qualiti good bass superb batteri life not good three month start think buy suggest u buy littl boat earbud boat neckband realli good compar last thank flipkart take reviewread',\n",
              " 'writ review month use genuin sound good not comfort use hour hurt lot tight ear claim hour playback gave around hour batteri life reach suddenli die hope review help plan buy headphon u compromis comfort read',\n",
              " 'not comfort long time use lakin hr use k lea best h sound toh good es price rang mread',\n",
              " 'realli awesom wireless headphon compar price n realli worth money total love product read',\n",
              " 'product good good compani howev dint like courier fellow spoken wile made call ask come hous deliv sound like not interest talk custom phone rude way sound plu dint chang read',\n",
              " 'verri good product music produc use mani headphon amaz product actual feel bass batteri backup amaz even charg day great product music fan go fot itread',\n",
              " 'believ kind advanc featur provid boat minimum price cool impress gadget love read',\n",
              " 'super low price extraordinari product bluetooth connect quick samsung bass qualiti realli good sound harsh headphon lightweight portabl also come aux cabl case batteri die beep sound pretti strong volum high best bluetooth headphon buy price rs need product boat read',\n",
              " 'awsom extordinari product realli good sound qualiti refresh hear soft music need better base qualiti read',\n",
              " 'bass work best aux cabl otherwis price best product got k se option otherwis best read',\n",
              " 'best one love product awesom best sound qualiti batteri backupread',\n",
              " 'nice work well reward experi isread',\n",
              " 'use month honest review sound qualiti bass batteri time good main concern connect feel bluetooth connect issu use headphon even phone pocket special make call claim meter rang tbh pathet also microphon not effici nois cancel parti hear properli outsid surround good thing use read',\n",
              " 'nice headphon superb bass not comfort ear good batteri pack still worth buyingread',\n",
              " 'no doubt awesom not hard core game u play sound got delay u trust compani n realli like take u dont budget take anoth one dont get upset put ox cabl play work correctli ur game read',\n",
              " 'best world bass product like much best thing colorread',\n",
              " 'month use headphon person boat speaker headphon lover alreadi speaker headphon famili headphon realli not upto level first time hear audio like audio qualiti ok bass overwhelm bcoz high volum music get distort build qualiti ok fit everyon fit ok famili member not fit well feel discomfor read',\n",
              " 'nice qualiti headphon high qualiti beat crystal clear sound also fault plug jack sound clear use bluetooth featur feel someth like uuuuuuread',\n",
              " 'product good batteri backup sound qualiti good suggest product goodread',\n",
              " 'good qualiti product flexibl easi use even good batteri backup must buy read',\n",
              " 'product get rich base nice audio qualiti disappoint call ever talk abl person product ok travel mainli music lover like product read',\n",
              " 'use month work smoothli without issu good bass proper mainten sound qualiti overal good choic look good headset mid rang read',\n",
              " 'st flipkart u god damn super fast servic tq u qualiti product super cool everyth grt yrr u soon u best type qualiti product within budget read',\n",
              " 'sound qualiti not good work good volum middl level becom notic max volum good buy read',\n",
              " 'made order decemb night got deliv home around pm made order flipkart pay later facil big shop day period dec price pack good mobil deliveri fast still next month jan pay due without extra interest servic fee th charg fine late repay thank flipkart facil boat rocker superb even price rang read',\n",
              " 'good product tri jbl bt ubon boat rocker product better compar bass give extra bass usin equil comfort take anywhereread',\n",
              " 'valu money say price tag good product sound qualiti good not great bass decent howev realli comfort overal good product got sale good dealread',\n",
              " 'wonder headset boat rockerz extra bass good clariti sound differ type fusion sound edit song awesom mind blow worth buy product miss read',\n",
              " 'write review aftet use week super qualiti sound good come full volum batteri backup also good get charg within hour last upto hour new user may feel pain initi day pain not feel day use foldabl easi carri buy like extra bass got rupe wait offer less luck thank u flipkart super fast deliveri read',\n",
              " 'fantast bass crisp clear voic overal superread',\n",
              " 'good bass excel listen music mic work properli buy music loverread',\n",
              " 'beauti design comfort wear sound qualiti batteri back also good thank flipkart give nice product rangeread',\n",
              " 'awesom product boat great deliveri flipkart day expect date bass sound clariti great use nokia bh boat rockerz leaf bass high end headphon read',\n",
              " 'love itsuperb bass sound qualiti much good build qualiti fair expect happi product thank flipkartlov saketread',\n",
              " 'super sound qualiti one best headphon superior bass qualiti get bass lover go guy realli fantast productread',\n",
              " 'tremend product good experi boat rockerz may feel much tight first purchas get feet across day day use also fast superb deliveri read',\n",
              " 'super bass thing must adjust usag headphon get ear pain usag smooth bought rs good handi product problem call receiv hear voic properli that issu im face review one day usag sometim updat read',\n",
              " 'awesom product everi angel batteri backup realli hour solid reach bass smooth sound qualiti recommend everyoneread',\n",
              " 'seen local shop octob confus one buy googl internet found boat popular bought boat rockerz rs realiz fnd hw much much better boat left boat rockerz brother bought product local shop happi also bought mani product e commerc first review real review bought fnd hw regret pr read',\n",
              " 'best headphon ever sound qualiti good bass style headphon good mic not seem great function mic also good soundread',\n",
              " 'use last four month awesom product good build qualiti super batteri backup realli give u hr use one chargeread',\n",
              " 'use youtub volum less compar applic gener speak bluetooth headset mic not level moder hear counterpart alway havnt like use headset hear song music app nice feel love read',\n",
              " 'use sinc monthspro sound qualiti amaz awesom bass good listen music movi travel bluetooth connect gud autoconnect bluetooth good fit around ear like joggingbatteri backup gudgood receiv cal sceptic sometim sound not clear person still not audibl travel work fine time con not much tight fit around th read',\n",
              " 'got k big billion use month nd feel absolut satisfi product apart satisfi build qualiti would vote excel aspect jst go itread',\n",
              " 'product good design tight fit comfort wear sound qualiti good overal good product priceread',\n",
              " 'amaz good sound qualiti n batteri back amaz fulli satisfi read',\n",
              " 'everyth superb sond qualiti bass extrem rang not much need shown rang not still one best headphon hav use read',\n",
              " 'write review use item month pro good build good sound qualiti want get bass littl us actual understand say directli tell sound good smooth dual connect bluetooth aux cabl long batteri good fit extend easi use difficult use con littl bit tight feel tight new headphon user feel gone read',\n",
              " 'accur review headphon nice sound bass qualiti wont regret butth cushion ear headphon irrit caus disturb full bass volum sever hour continu usag may give headach overal awesom qualiti headphon compar headphon market im glad bought itboat nice compani want buy go read',\n",
              " 'fact see look budget headphon best rang none jbl soni phillip beat nobodi kind sound qualiti rang fun fact even boat made model great dynam sound even rest model even expens one not great bass like sit car woofer good amount crisp tribl not like sennheis still pop music lover like bought th read',\n",
              " 'good listen song not good call coz sometim sound not audibl repeat sound come not talk softli call music best read',\n",
              " 'good product go initi felt littl tight ear later mani usag cusion get adjust ear feel good comfort rate read',\n",
              " 'wonder companion phone music amaz batteri life last whole day depend use good bass sound qualiti also work call go best part come addit aux cabl alway keep connect case low juic feel littl tight begin time get acoustom ear easi carri foldabl mechan consid price point good product read',\n",
              " 'right left distribut not okay otherwis sound qualiti good clariti okay bass almost perfectread',\n",
              " 'nice bluetooth headphon pleas perform day use u prefer price sound qualiti best comparis headphon read',\n",
              " 'excel sound qualiti deep bass good batteri backup thing not like tight ear got big billion day read',\n",
              " 'good product boat headphon good best also nice thank flipkartread',\n",
              " 'headphon stylish look bass dj dispoint batteri backup good mic okk okk overal good not goodread',\n",
              " 'nice headphon price band almost everyon good headphon bass trebl good easi connect pair work well oppo mi phone cusion spring also good come aux cabl use normal wire headphonesread',\n",
              " 'no word stun amaz sound qualiti bass boost high level batteri backup good one best market read',\n",
              " 'hot sexi sound well design awesom love product batteri backup awesom nois cancel fabul hear sound read',\n",
              " 'durabl use anywher sound system delight sooth good batteri backup aswel almost last hrsread',\n",
              " 'write review use monthsawesom soundsveri good batteri backupwireless love go no wireless headphon qualiti like boat rockerzread',\n",
              " 'best headphon bass sound qualiti superb soundbut mic not good creat extern sound one talk toread',\n",
              " 'satisfi purchas price decent buy use past day far encount no problem batteri backup greatread',\n",
              " 'qualiti good sound qualiti also better ear cushion get warm pleas chang good materialread',\n",
              " 'reliabl price amaz alway think buy boat accessori due high cost cant afford festiv season make happi bcoz boat headfon terraf bass batteri may upgrad design comfort mic work awesom aux cabl make wonder less charg time hr play hr got best price read',\n",
              " 'nice product boat nice clear audio powerful monster bass one best reson rateread',\n",
              " 'good sound clear voic clariti call comfort cushion protect ear give pain although use long time recommend read',\n",
              " 'got rs awesom rang boat bluetooth product head head phone anoth piston head phone bluetooth speaker product work good love product brandread',\n",
              " 'handset awesom love use great qualiti effect pubg play read',\n",
              " 'product awesom packag not well manner take day deliv otherwis product awesom batteri awesom long last batteri batteri perform love itread',\n",
              " 'awesom product use day charg time till good sound qualiti batteri backup would recommend would use max hr day u use ear get pain ear headphon ear cover use long would pain base ln usag buy strongli recommend read',\n",
              " 'nice product good product happi bad varri niceread',\n",
              " 'nice product good build qualiti use time half hour caus earpain due tight good batteri backup wiresld mode also goodread',\n",
              " 'realli good headphon got budget sound qualiti awesom especi bass bass earphon total excel go boat rockerz got good choic read',\n",
              " 'extrem happi sound qualiti price strong last long advic other purchas without think option bought price buy price wait next diwali offer thank u flipkart read',\n",
              " 'good bluetooth headphon price rang may also buy bought big billion day attract price love itread',\n",
              " 'good product batteri backup also go long time awesom like read',\n",
              " 'beauti product nice handl sound system good happyread',\n",
              " 'cool work pute neck need design featur like easili foldabl rest neck cool dude cost buck feel costli read',\n",
              " 'worth buy excel sound qualiti nois cancel button qualiti could littl better give adjust handset fit head give number read',\n",
              " 'amaz sound n handi buy rockerz without hesit love n comfort read',\n",
              " 'awesom batteri backup good bass awesom happi product thank flipkart read',\n",
              " 'best bass earphon ever found earth design good way sound qualiti good kept low volum not proper still good earphon u want buy earphon suggest u shall buy thisread',\n",
              " 'good product nice sound good bass build qualiti not good wire sensit faiil problem fineread',\n",
              " 'flexibl reliabl sound qualiti awesom buy product cz not worth money amaz product read',\n",
              " 'sound great good qualiti super bass best batteri backup use continu hour also use wire batteri dead nyc look attract ok must buy request u want buy pleas buy confus buy person opinion iget read',\n",
              " 'best one price rang bought rs also purchas cosmic byte headphon soni headphon price no one come closer bass sound clariti dolbi effect distinct differ sound other know ordinari headphon make sound muddi not case boat rockerz abl deliv sound clearli distinct separ ambient realiti l read',\n",
              " 'amaz nice product love best go itread',\n",
              " 'good someon like soft anf sweet sound read',\n",
              " 'great product good sound qualiti bass headband thin littl problem overal great thank flipkart especi thank seller thank boat compani read',\n",
              " 'sound qualiti tend disrupt audio time overal provid decent qualitybass best class design build headmount not rotat complet make difficult carri neck thing sturdi feel great wear batteri backup decent provid hour music play hour charg read',\n",
              " 'product best nice use think better soni use bass soundread',\n",
              " 'valu money super bass sound also high qualiti like sound effect play bass song also good product game purpos buy play pubg thank flipkart good packingread',\n",
              " 'love look size wish littl lightweight ear feel not fulli cover grip good though base awesomeread',\n",
              " 'gift big b bhai dhooj festiv like much qualiti sound good major disadvantag u cnt wear headphon mint start pain ur head well ur ear tight read',\n",
              " 'fast delveri super sound qualiti happi ur product thank u flipkartread',\n",
              " 'awesom product clear sound great bass comfort ear longer use must buy feel ear headphon better ear headphon read',\n",
              " 'qualiti good one thing support distanc rang connect otherwis seem well design look coolread',\n",
              " 'realli good special ur buy headphon like first time bass good n sound never distort connect btr ye u love anyway caus rather con pro aftr depend upon price low basic best headphon good price atleast someon afford buy not use allread',\n",
              " 'say first bluetooth headphon think massiv budget headphon not budget headphon bet headphon give tough competit comapani headphon k easili better no complain no con sound qualiti extra ordinari built qualiti decent bass ohooo man put ear feel devil bass vibrat bought purchas diwali read',\n",
              " 'nice product like much bluetooth rang low hardli work feetread',\n",
              " 'love first look superb bass balanc sound tribbl bit less price point noth beat beast read',\n",
              " 'pro power bass good move easi keep bagcon sound clariti not crisp brilliant bass high volum damag vocal heard cannot put half hour trust head feel heavi read',\n",
              " 'good product nice sound built qualiti switch not much good said averag wise itz gud product eye catch lookread',\n",
              " 'use month headphon seem fine good audio audio qualiti decent enough bass first day use may feel tight ear soon automat adjust one head size honestli speak quit happi perform right dont know durabl devic slight delay audio call ok read',\n",
              " 'got best product extra bass superb sound qualiti awsom design good servic thankyou flipkart read',\n",
              " 'good sound qualiti n bass happi product bought diwali sale reason price batteri backup also goodread',\n",
              " 'write review day use sound qualiti batteri backup quit good though comfort zero tight cushion also not soft make ear pain continu use minut second thing dislik volum call low mic also produc enough voic audibl person end mayb headphon fault price segment think expec read',\n",
              " 'realli good product price segment high volum sound come listen person sit asid compani work great productread',\n",
              " 'best segment good bass nice sound sound qualiti call not good rang also not wide lot nois talk overal gud best consid price read',\n",
              " 'bought awesom price sound qualiti dope bass super nice batteri backup also ok problem design not comfort wear long pain ear besid still pretti goodread',\n",
              " 'wow cool perfectli fit batteri life amazingread',\n",
              " 'boat one best head phone bass also superb beer tri back best hour play back time love product chho diwali pe le sakat horead',\n",
              " 'headphon realli super good sound qualiti bass batteri backup charg time pretti good not comfort fill much irrit listen music love sound qualiti good anoth headphon boat read',\n",
              " 'good sound qualiti price rang bass good enjoy everi beat music nice product good batteri life read',\n",
              " 'nice not good pubg good batteri life sound good not bassread',\n",
              " 'product perfect sow beauti design sound qualiti perfect bass happi read',\n",
              " 'sound qualiti goodyur ear hurt wear min not comfi allbut price good dealth mic work play pubg call use mic phone not headseti know whyread',\n",
              " 'lovli headphon rang fulli surpris bass good sound qualiti also exel nice best product rang realli boat rockssss read',\n",
              " 'happi product money worth realli like sound qualiti awesomeread',\n",
              " 'superb sound qualiti build qualiti light weight boat need work design compact definetli give star go guy worth buy read',\n",
              " 'good music lover clariti good bass enhanc read',\n",
              " 'awesom product afford price superb bass qualiti well batteri back read',\n",
              " 'awesom bluetooth headset awesom bass boost easi handi care design good superb price headphonesread',\n",
              " 'great product excel sound littl bit tough use long minut start itch price best product sound crack use full volumeread',\n",
              " 'afford price good product smooth sound super high bass read',\n",
              " 'sound qualiti excel bass not excel avarag build qualiti superb osmm one star less not super bass avarag read',\n",
              " 'great sound qualiti bass good bluetooth connect rang not good overal great alway prefer indian brand boat one though made china mumbai base start compani great work year usag complet satisfi read',\n",
              " 'best hardwork specifi student lead cool life must buy product afford price read',\n",
              " 'product good qualiti also great great hedphon problem comfort pad not great u wear long time read',\n",
              " 'great product boat like good sound qualiti decent bass better jbl read',\n",
              " 'superb experi thi price boat done great job superb batteri backup clear sound experi extra bass best featur dual mode bluetooth aux read',\n",
              " 'sound qualiti best perfect comfort ear good qualiti productread',\n",
              " 'compar much better top brand soni jbl simpli go definit love rich bass flexibl fast connect great batteri life bought brother alreadi year old wireless boat still sound like new read',\n",
              " 'great headphon amaz sound qualiti great fit amaz look great design also great bass came amaz safe pack one thing sound decreas u connect aux rest batteri sound qualiti worth got amaz productread',\n",
              " 'best product rang love got rs satisfi itread',\n",
              " 'compar product segment serv littl lower soni hand avail good music qualiti nice bass surround effect noth spl design read',\n",
              " 'power bass sound batteri backup good qualiti wise best product read',\n",
              " 'good deal amaz beyond expect great sound bass well great look grab deal soon possibleread',\n",
              " 'nice product thing good slightli tight hour usag start feel pain ear think built qualiti much awesom think get use day well get accord price think go bought rupe read',\n",
              " 'good product price segment love good sound bass perform good read',\n",
              " 'think anyon want buy price rang best product best sound qualiti price rang bass realli good say valu money could better charg cabl plug properli also no problem sound bass crystal clear sound expect boat expect qualiti plastic portabl easi carri read',\n",
              " 'great buy one best headset far price rang sound bass qualiti great colour fit also great overal recommend read',\n",
              " 'bought headphon rupe price rang think best headphon ever best thing headphon bass sound qualiti batteri backup good not best want buy headphon buy without fear read',\n",
              " 'good sound bass good look everyth oosam work properli mic low qualitybut also like product happyread',\n",
              " 'good product good batteri backup good replac xtreme bass overal exlent prospect thank q flipkart parch rs big bilian day offerread',\n",
              " 'realli like headphon build qualiti batteri everyth amaz hurt bit ear sit ear sound qualiti see anyon say read review buy say sound amaz wire sound sensit like notic slight high pitch buzz use wirelessli ye know case wireless connect listen someth th read',\n",
              " 'superb bass sound qualiti pretti goodi love product product best sound lover bass loversread',\n",
              " 'everyth good fabul one thing would say sound qualiti skull candi littl better boat still boat cheaper skull candi henc offer best price rang read',\n",
              " 'use last year awesom purchas good price good sound good bass good nois cancel good build qualiti one con slightli tight use long period like watch movieread',\n",
              " 'best headphon price got black blue one unbox batteri base good vocal could better bluetooth aux cabl decent easili use within metr con slightli tight caus pain ear use minut could comfortableread',\n",
              " 'good one day batteri stabl perfect bass sound qualiti bestread',\n",
              " 'best price realli work like charm sound qualiti bass pure boom batteri backup quit good last hour steadi usag everyon must tri without doubt read',\n",
              " 'superb sound qualiti also clear bass design look wise slightli disappoint materi feel weak enjoy music no matter durabl go read',\n",
              " 'brought filkart big billion bay rs sound bass superb aqul good overal excel perform happi price thankq filkart read',\n",
              " 'awesom product boat best qualiti best bass best nois cancel great batteri back upread',\n",
              " 'use beat sennheis beyerdynam bose soni panason headphon never hear kind music qualiti headphon feel relax exit got headphon day back trust whenev got time connect bluetooth devic start list music huge pack happi awesom thank boat awesom product read',\n",
              " 'awesom product happi buy everi thing great fit not goodread',\n",
              " 'guy one who search review see u realli want purchas headphon wireless good batteri packup u need price make u satisfactori option best headphon watch seri hr still batteri remain e nearli hr batteri packup note purchas offer one may get rs read',\n",
              " 'person ear neck head start pain wear headset wear hour sound qualiti good comfort matter not satisfi product habbit wear headset good bass good nois cancel well extend read',\n",
              " 'good design foldabl easi carri around ear cup small not suitabl bigger earsread',\n",
              " 'prosth audio qualiti good excel sound amplif no problem batteri lifeaccept cushionsgood nois cancellationconsm not good person side hear low voic lowest sound bit high want hear music quiet environ sound music bit loud although movi call etc perfectli fineread',\n",
              " 'use listen music wirelessli although sound qualiti good not best call ok mic within earcup catch voic easili overal price good product want untangl read',\n",
              " 'headphon nice look base sound excel happi product buy not happi deliveri productread',\n",
              " 'boat rocker build qualiti good feel amaz u hear bass song main advantag u use bluetooth connect wireless wire put aux cabl batteri backup good use day without charg u hear good sound effect bluetooth connect connect aux cabl phone give not much sound effect product awesom deliv day expect date valu money thanx flipkartread',\n",
              " 'built qualiti not strong design better built quiliti made chip plastic materi either price compromis sound quiliti best price segment bit clear bass quiliti also good love boat sound quiliti give star sound quliti bass segment know make quiliti sound bass like headphon price segment love must buy guy offer period bemis headphon song bea read',\n",
              " 'sound qualiti good bluetooth work fast connect fast black red colour look good travel help listen songss feel good read',\n",
              " 'probabl notic mani nom peopl bought ut rate tell someth no matter caus purchas one n ear headphon definit not suggest buy pleas outdat product give comfort like import part headphon sound good want hear music loud volum forget listen better medium n low volum headach high read',\n",
              " 'best best headphon reallli impress use realli comfort good bass tooo happi purchaseread',\n",
              " 'nice qualiti sound bass everyth perfect nice headphon valuabl price read',\n",
              " 'product good product got rs sound osm batteri backup good comfort adjustableread',\n",
              " 'product good hard wear maximum minut otherwis pain hear less comfort otherwis super sound super bass super batteri look almost good read',\n",
              " 'best base boom sound clear base also perfectread',\n",
              " 'happi purchas everi thing good rubber soft realli batteri back sound bestread',\n",
              " 'good bluetooth gift husband love muchh thank flipkartread',\n",
              " 'headphon boost hear song fell free voic also good no issu regard headphon mic also good even take call headphon easi connect batteri remain upto minimum hour charg fulli oncecharg need charg two day play pubg footstep clearli understood make guess enemi go come like headphon sug read',\n",
              " 'sound qualiti super grip great feel tighter time wear batteri back pretti good bluetooth util good connect mike not work properli face problem wire time experi good mike work properli connect jackread',\n",
              " 'product good much conveni high sound qualiti import point product sound headphon even ur travel clear voic sudden drastic chang batteri backup kind suddenli went batteri low state got offread',\n",
              " 'great product use week sound beast bass awesom valu money brought rupe big billion day also come year warranti card amazingread',\n",
              " 'awesom product price super extra bass nice product boat rockerz ultra super extra bass read',\n",
              " 'wow love superb sound qualiti happi deal read',\n",
              " 'sound qauliti normal lack clariti higher bass bass excel one want sound clariti switch sennheis cx alreadi use got better qualiti sound balanc read',\n",
              " 'use notic everyth u notic write review realli not long use use hour continu give rest use ear big pain littl sound qualiti amaz trebl bass perfectli balanc clearli tell differ base trebl vocal clear along power bass must buy much satisfi sound qualiti read',\n",
              " 'strong not durabl soft cution comfort easi carryread',\n",
              " 'headphon good bt voic call not good mean term headphon work amaz bt not good call purpos mic doen workedread',\n",
              " 'realli cool product sound qualiti superb wire wireless not good right conveni listen song read',\n",
              " 'fall love headphon mind blow awsom sound qualiti superb bass also good recommend everi one buy product flipkart read',\n",
              " 'feel happi buy product quit awesom way music qualiti like excellentread',\n",
              " 'good product sound bass qualiti good bill tha headphon not good aft minut ear go pain develp request work bill overal product vari good read',\n",
              " 'could comfort better hurt ear sometim answer call not good answer call mic not effect sometim catch voic sometim repeat twice thrice time pleas improv make comfort use read',\n",
              " 'headphon good term bulid qualiti absolutli love talk sound mm driver well produc good quatili sound premium bass littll tight ear later use time becom much comfort come wire cabl connect use without charg wire sound amaz headphon pretti stylesh though read',\n",
              " 'built qualiti good sound comfort not good ok kaan bahotbdard hota hai bhai min use karsakt ho read',\n",
              " 'good product easi carri excel sound qualiti super bass good built qualiti thank boatread',\n",
              " 'great sound qualiti batteri backup good grip ear henc littl tight allov great product worth money also thank flipkart good pack dileveri time read',\n",
              " 'got price rang best headphon bass feel bass play bass boost song qualiti sound aux phenomen shake head wear head final amaz product worth buyingread',\n",
              " 'superb headphon nice sound qualiti superb bass batteri life less good normal usag design not best semi foldabl less weight alsoread',\n",
              " 'awesom super bass super crispi sound build qualiti low overal sound excellentread',\n",
              " 'not star caus build qualiti not good compar price fine ear realli pain sometim not comfort overal good sound area headphon decent job compar price low budget go no place secong thoughtread',\n",
              " 'nice sound nice bass nice battari iam buyd price rang good not listern music full volum one hr hair pain goodread',\n",
              " 'overal good accord price two day feel sound good not best build qualiti averag miss adjust soft cushion found no issu thank flipkart read',\n",
              " 'one thing look best headphon budget superb sound qualiti bass good finishingread',\n",
              " 'best product budgetawesom base like give guy best base without equilis feel realli like dj big base around us read',\n",
              " 'super bass sound super qualitybuy product super product buy iti soo happi buy product bluetooth connet also fastbuy onlyread',\n",
              " 'good sound qualiti best bass experi ear thank flipkart amaz product good price rang read',\n",
              " 'wow wow bass love thank flipkart worth price mast buyread',\n",
              " 'beauti design headset price certainli worth bass awesom vocal clariti littl low compar sennheis headset bluetooth rang decent meter maximum use without obstruct read',\n",
              " 'use last one year satisfi product base awesom carri anywher want easili good product flipkart big thank read',\n",
              " 'good use headphon good qualiti sound easi button price read',\n",
              " 'headphon deliv date mention place order qualiti good bass perfect recommend famili friend definit read',\n",
              " 'terrif purchas rs worth money pack deliveri awesom thank flipkart read',\n",
              " 'awesom sound great full satisfi bass extrem good product recommend buyread',\n",
              " 'sound qualiti good extra bass batteri run day normal use call qualiti not good microphon not respons audio greatread',\n",
              " 'one best headset sound qualiti realli best cant play pubg without aux cabl featur batteri backup also good not flexibl like boat rockerrz keep touch bodyread',\n",
              " 'awesom voic connect rang charger qualiti not great charg time good design eas use also niceread',\n",
              " 'good head phone one problem attend voic call voic not clear person rest music goodread',\n",
              " 'ia nice product ever got realli love nice price read',\n",
              " 'awesom bass lover bass next level sound qualiti also superb overal good product boat thank flipkart fast servic got read',\n",
              " 'best bluetooth headset get k rang bluetooth good enough sound qualiti realli good build qualiti not mark k rang good enoughread',\n",
              " 'headphon good pricesound qualiti good good bass effect connect use bluetoothbut sound qualiti averag connect use wire aux cableread',\n",
              " 'buy rs thought mic not work properli got replac even mic not good even friend dame problem mic suck forget take call vocal okok everyth els fine got big billion sale good price mic good read',\n",
              " 'cushion good compar previou product handi use bass awesom fi check sound qualiti play bohemia raphosidi track best product worth price rang read',\n",
              " 'best class headphon best thing comfort wear sound clariti good bought bbd sale rsread',\n",
              " 'super product super flipkart love flipkart love boat read',\n",
              " 'rounder work well field not best goodread',\n",
              " 'extrem awesom sound qualiti good anyon want headset choos boat rockerz play pubg good game also recommend choos thank read',\n",
              " 'sound qualiti good per price headphon quiet heavi long use not recommend person spec use wear spec feel comfort batteri backup good enough build qualiti decent not much good got rs bbd flipkart plu member got deliv two day read',\n",
              " 'got good deal sound qualiti bass qualiti good build qualiti also good batteri backup also impress lucki support mm headphon jack present insid box els need good deal go around read',\n",
              " 'wow super realli good clear sound bass awesomeread',\n",
              " 'realli impress one purchas big billion day sale thought one expect rupe headphon sinc bluetooth version thought sound qualiti worst no wrong bluetooth well aux cabl good provid audio qualiti notic distanc phone headphon exce metr sound qualiti becom someth terribl anoth one con pe read',\n",
              " 'usual review week write stday use awesom nd qualiti mind blow not sure miss best headphon far bought worthi one pakka head settuuuread',\n",
              " 'awsom product afford valu money nice pakag well happi productread',\n",
              " 'awesom worth thank god check previou order pay next day deal happi luckili save read',\n",
              " 'final arriv day thank flipkart fast deliveri boat rocker nice headphon price rang good bass good batteri good sound qualiti read',\n",
              " 'realli awesom pure music lover headphon way beteer soni phillip bass superb mean no amliifi tone crystal clear trebl bassread',\n",
              " 'great product sound awesom got rs great big billion day offer thank much flipkart read',\n",
              " 'rockerz brand easi use good sound qualiti best bluetooth headphon price rang design also fine bluetooth rang max one room anoth talk built mic call need hold phone near got sale best price iss kam mai koi bhi brand bluetooth headphon nhi mileng read',\n",
              " 'total amaz product love realli nyc fabul sound thank u flipkart deliverd dayread',\n",
              " 'fastest deliveri sound qualiti good impress design good product read',\n",
              " 'product super sound qualiti bass etc deliveri also good deliv product date like read',\n",
              " 'headphon r realli awesom nice sound qualiti got wonder piec rs realli happi fast deliveri read',\n",
              " 'love good built good qualiti nice bass batteri backup osmread',\n",
              " 'good sound qualiti kindli improv make materi ad elast super bass full paisa vasulread',\n",
              " 'deliveri person attitud rude not help person give star humbl request pleas send someon els next order order good thank youread',\n",
              " 'nice bass n easi fit head use aux cabl better experi bass blow mind excel product price segment read',\n",
              " 'product good qualiti product one realli tough strong not damag drop someth like happen no problem realli harder nice qualiti soundread',\n",
              " 'review use sound qualiti not best sound price point audiophil music produc tri lot headphon sound bit muffl low frequenc boost better base mid boost littl voic part loud higher frequenc low unless use equil might not get best experi mic also averag captur strength great might shout talk compar read',\n",
              " 'excel product afford bluetooth headphon compair other base excel connect also great u connect blutooth wifi time work realli fine dosen dosent even lag speed wifi like blutooth speaker ex mivi speaker purchas wifi dosent work connet devic excel product price small sale big sale even go till read',\n",
              " 'good head phone better sound qualiti built design simpl comfort use feel provid separ button volum next previou make multifunct button separ button overal good use daili day use good door adjust design also good read',\n",
              " 'rocker r best got best valu overal perform awesom microphon not audibl due design year use frame break sureread',\n",
              " 'perfect price great qualiti boat nd thamk flipkart love must order saleread',\n",
              " 'overal realli good built good sound qualiti nois cancel also good bass terrif got noth like market price go itread',\n",
              " 'u want talk purpos nope good mircophon music video game best headphon bluetooth also wire batteri backup decent overal best beginnersread',\n",
              " 'give real theather effect play marvel movi liter shake give best thrill littl sweat feel nearbi ear good product cost read',\n",
              " 'headphon great qualiti build wise one need hit nirvana travel somehow option use headphon wire not pleasant listen experi bt use bt make call peopl often complain not abl listen say microphon good enough read',\n",
              " 'great purchas honest hesit begin order surpris enough overcom realli happi buy read',\n",
              " 'extrem superb headphon flipkart love one super bass built design goodread',\n",
              " 'pro sound qualiti bass price rang volum control batteri casual user mic aux con product qualiti mainli headband not great call voic get cut sound low connect bit issu get disconnect suddenli happen rare get uncomfort point time batteri heavi user use product month headband qualiti poor expect last least year read',\n",
              " 'awesom headphon dont look anoth great like sound qualiti bass goodread',\n",
              " 'best product good price sound nice bass good read',\n",
              " 'good product like good thing good price read',\n",
              " 'good product packag product also good good experi flipkart good servic provid deliveri boy read',\n",
              " 'veru good deal gift brother happi batteri backuo also good brother use daili full day use headset play gameread',\n",
              " 'product awesom great sound qualiti not satisfi comfort give pain wear overal nice product read',\n",
              " 'compar brand price rang superb great sound deep bass not smooth sound music sound feel like bass disappoint great music qualiti bass good build qualiti avarageread',\n",
              " 'nice qualiti headphon special price tag amaz sound well bass go guy best budget headphon read',\n",
              " 'fulfil necessari expect good headphon one thing notic mic not suitabl phone call like headphon play song read',\n",
              " 'love head pretti see one problem wear mani time start pain not good els everyth fine love look awesomeread',\n",
              " 'best product good qualiti easi handl good product low cost read',\n",
              " 'good product nd love sound clariti nd good bass charg hour nd give hour batteri power read',\n",
              " 'good qualiti product definit go batteri backup long charg five day fit perfectli ear caus pain adjust perfect posit sound qualiti realli fascin low price compar brand realli high qualiti power base get true authent experi music bought earphon rs stop work within read',\n",
              " 'headset truli amaz price got bluetooth mm headphon jack case batteri run charg feel audio qualiti better connect use aux cabl provid box boat also provid usb micro usb cabl box charg headset pretti light comfort use size adjust opt black blue colour combin provid cloth materi earcup read',\n",
              " 'sound qualiti awesom recommend buy neck band u want use earphon hour best u get read',\n",
              " 'boat undoubtedli best compani price talk model sound qualiti satisfi bass not power sweet smooth qualiti good could better best thing headphon connect batteri backup connect rang good charg continu use day hour day highli recommend also go boat rock star model go itread',\n",
              " 'good sound qualiti bass good sound qualiti better plug provid cabl build qualiti good plastic fabric use good qualiti get batteri life much claim manufactur need improv tight fit feel pain use long time bluetooth version old also rang less boat logo look bore read',\n",
              " 'best headphon love bass thiss best batteri backup ever best qualiti ever must buy read',\n",
              " 'super bass light weight comfort impress look nois cancel pretti good give much price boat rock deliveri fastread',\n",
              " 'got rockerz today listen hour sound smooth low mid high balanc design cool light weight good batteri backup bluetooth connect good well best thing headphon aux cabl batteri drain use wire headset well littl tight ear manag thank u flipkart quick deliveri great deal price rang w read',\n",
              " 'love flipkart start purchas flipkart still not disappoint buy product good excel condit happi buy product flipkart want buy differ product flipkart love flipkartread',\n",
              " 'nice product noth default sound qualiti also great design look awesom nice batteri best work long time colour also superb thank flipkartread',\n",
              " 'super headphon nice build qualiti batteri backup good bluetooth connect awesom high bassread',\n",
              " 'not satisfactori no base bass batt not mark volum work time mm work fine connect sad bought wireless purpos recommend happi loopset bought brand earlier read',\n",
              " 'not satisfi product paid big amount not got perfect amount sound qualiti not good bass also not good even call also not clariti read',\n",
              " 'mani review tell pro product beleiv worth money product awe pain wear even minut write review frustrat enjoy use fulfil remov eas ear arch made plastic seem break easili stretch much leather pad stuck would peel no stretch read',\n",
              " 'realli like sound machin amaz sound qualiti perfect price realli make ear feel great nice product inde good sound bass qualiti use sinc week batteri backup also last hr full charg hr must buyread',\n",
              " 'boat headphon good enough grab rs buy blue color green color black red color blue green color materi earcup headband polyest type cloth materi use black blue color synthet leather comfort also look good come sound qualiti amaz bass decent sound crystal clear loud enough build qualiti also good bluetooth connectiv read',\n",
              " 'sound come interrupt dnt know due old bluetooth version technic issu rang also less nice good ur frst blutooth headphon afford price rangeread',\n",
              " 'nice qualiti sound awesom bass love batteri back also gud almost whole day listen normal guy one issu hour ear get pain sweet negoti rs overal best headphon rang go read',\n",
              " 'fantast awesom product honest review review one month usag sound qualiti superb bluetooth may not get effect wire batteri backup not mark still cool sinc use aux side felt seriou troubl great pubg player play bluetooth mode sound come action great disappoint use w read',\n",
              " 'sound qualiti good bass supereb batteri last hour appx continu usag build qualiti also good strong nois cancel not good anoth sound also play outsid like tv read',\n",
              " 'amaz headphon mention seller base not soo good ok ok sound qualiti awesom batteri backup also super love batteri backup day bought charg time bad thing headphon mic qualiti person hear background nois come headphon otherwis headphon awesom read',\n",
              " 'boat headphon best good product much happi much better read',\n",
              " 'everyth search good headphon sound realli good melodi bass good fit hurt start day adjust automat know worth money not believ charg fast run long also provid great comfort read',\n",
              " 'well good pricebuy best green one best colour wait sale not avail great bass read',\n",
              " 'awesom product well deaign superb sound qualiti nd bass satisfi productread',\n",
              " 'good base lover base soo heavi sometim audio not clearli audiabl love base go read',\n",
              " 'superb product awesom sound qualiti balanc also good thank flipkart read',\n",
              " 'awesom product boat rockerz must buy product awesom build qualiti sound superb got gut need headphon complet satisfi read',\n",
              " 'nice product price best love deliveri late hope work fine time good read',\n",
              " 'good product worth money better go black instead blue dirt seen clearlyread',\n",
              " 'overal good product great sound thing found improv not fit tight head ear use ear feel pressur right moment start use need improv read',\n",
              " 'write week usag built good light weight easi carri listen music nearli hr continu no sweat discomfort fit perfectli let talk abu sound say wowwww sound effect pretti decent song bass also moder overal decent product freedom saleread',\n",
              " 'nice product good sound effect batteru backup amaz got worthread',\n",
              " 'bluetooth connect bad sound qualiti good sound crackl volum u like melodi classic song headphon not good edm dubstep bass heavi song bass amaz batteri life nice good dealread',\n",
              " 'realli good product rate build design not suitabl realli person design adjust type best productread',\n",
              " 'assur buy product worth use last month drop soo mani time still work condit brought read thn sure buy bcoz best best featur batteri backup even charg min work hour best batteri life ever read',\n",
              " 'total awesom headphon feedback flipkart team follow detail help prachi telecal given first time info third person telecal given awesom info give best batteri backup usingand use mostli home go ofc day batteri usag read',\n",
              " 'use ear pain wani ise like littl super product nice want buy headset buyread',\n",
              " 'product good price igot offer made comfort car cub smaller want tell sound qualiti good worth bass superb nd packag rhi headphon good praiseabl flipkart shpment hub student want buy right decis buy anyon want comfort dont buy design good bot not comfort nice gave full rev read',\n",
              " 'best time bass sound qualiti good thx boat make best headphon read',\n",
              " 'headphon high sound qualiti good bass give best hd qualiti sound headphon comfort point view not good minut ear start pain read',\n",
              " 'good qualiti sound great eas comfort compactread',\n",
              " 'love product good sound qualiti backup love colour n design thank u flipkartread',\n",
              " 'wonder product realli look good sound good keep good attitud uhh rockerz rock read',\n",
              " 'awesom product iam enjoy free time design good sound amaz read',\n",
              " 'good sound qualiti comfort blootooth rang low distanc increas sound lag good prize buy freedom sale read',\n",
              " 'pretti good look function good sound awesom clear toneread',\n",
              " 'awsom product good qualiti could feel vibrat suggest micro sd slot u get product inr awsom saveread',\n",
              " 'boat rockerz rs great deal go talk follow point music qualityb build qualiti c feel headphon music qualiti first time put piec might not feel keep listen gradual realis headphon provid great hear experi not excel bass quit ok high distinct provid overal balanc output note expect read',\n",
              " 'nice headphon sound qualiti super good bass high like much boat head phone read',\n",
              " 'product nice like filpkart deliveri good deliveri boy behavior niceread',\n",
              " 'highli recommend low budget good sound qualiti last good seem like tight head comfort wear least medium head read',\n",
              " 'highli recommend sound qualiti awesom well made got super reason price deliv well time thank flipkart read',\n",
              " 'pack deliveri good time usual flipkart one best headphon use till date complet good bass realli good sound output qualiti excel bluetooth rang good worth price pay purchas offer problem use aux cabl audio distort output not good bluetooth not big issu use bluetooth almost time budget around k k go th read',\n",
              " 'good product like design superb sound qualiti good read',\n",
              " 'product good play paus button not good not properli workread',\n",
              " 'worth money clear sound nice design like thank flipkart boatread',\n",
              " 'overal headphon realli good one worth buy compat almost devic long batteri life also need worri batteri finsh usb hand connect phone headset excel sound qualiti read',\n",
              " 'headphon good best budget go better headphon price rang read',\n",
              " 'nice product great product sound qualiti best colour goodread',\n",
              " 'boat alway classic product good deliv peopl bought sennheis hd later impress product love boat good batteri backup great valu money use use time sennheis complet impress product give good batteri backup also give good sound experi read',\n",
              " 'alreadi use skull candi headphon compar boat bass realli better per song melodi song rock song gana song song produc correct bass congratul boat make product confirm readi purchas thanksread',\n",
              " 'realli good product give clear sound bass impress worth money best product prize thank flipkart product impress fast deliveryread',\n",
              " 'nice batteri backup ia also good size much better overal everyth best priceread',\n",
              " 'product realli good sound qualiti good bass light weight u feel like heavi load u r head u continu long time littl bit sweat u r ear area want give rate due poor bluetooth rang give rate u put u r phone u r lower pocket mani time sound goe cut automat low bluetooth frequenc read',\n",
              " 'realli awesom product bulit qualiti sound good worth money comfort wear well thank flipkart boat well make decent product read',\n",
              " 'sound qualiti good worth money voic chang mean nice voic not niceread',\n",
              " 'aaa best sound qualiti awesom like bettri backup awesom awesom headset niceread',\n",
              " 'amaz product order day ago delay deliveri ok not big deal use min made feel perfect use mani headphon one littl like say hatk love want extra extra base go boat differ one want extra base good sound qualiti experienc call not good mic not good ok overal read',\n",
              " 'everyth good awesom good qualiti shown pic must buy filpkart improv ur deliveri time order day receiv tri give timeread',\n",
              " 'boat rockerz one best product boat compani love bass sound qualiti excel price rang light weight comfort use hour make pain ear headphon bestread',\n",
              " 'boat rockerz best one boat compani one play pubg pc dont hai mic orr connect boat headphon pc best one thank boat thank flipkartread',\n",
              " 'sound qualiti good hard wear long ear pad littl bit hard compar headphon ear pad made cloth like materi skin peal not guy note one thing neon color realli stylish cool get dirti realli fast green color turn brownish black black color one might best option would alway clean not stylish read',\n",
              " 'awesom headphon feel tha bass mind got fabul time enjoy like legendaryread',\n",
              " 'thing work good high bass good sound qualiti mic good play pubg among best headphon useread',\n",
              " 'voic qualiti averag bit tight head good peopl smaller head radial cushion soft good product per price rang person recommend jbl wireless speaker complet worth read',\n",
              " 'boat rockerz awesom bass superb balanc sound qualiti great batteri backup day use without singl charg not use continu not hour show batteri charg friend listen also said great valu money incred sound qualiti import part boat rockerz support sync call call listen song recommend buy read',\n",
              " 'best headset price one thing product not suitabl pubg free fire bluetooth perfect use aux cabl got u want play pubg bluetooth better buy headset price k k lot pressur ear even min better buy deep earphon honest review boat headset read',\n",
              " 'hey fella give review year usag experi good good sound great bass worst part build qualiti handl broken month usag suggest product good build qualityread',\n",
              " 'clear sound moder trabl bass nois cancel effect volum high enough make feel solitud crowd area batteri back excel charg quickli demerit mic right ear piec rais voic abl speak read',\n",
              " 'nice product valu money bit uncomfort long time usag bluetooth sometim work even phone pocket decent batteri backupoveral nice product scope improv read',\n",
              " 'product good daili usag get hr playback time rang sometim poor sourc obstruct automat disconnect sourc properli maintain distanc work perfectli build qualiti good ear cup start come month tape backread',\n",
              " 'excel product reason price wit flipkart improv servic multipl level compet well onlin seller everyth includ custom servic deliveri time grown tremend last year recommend product well flipkart read',\n",
              " 'great bass good trebl fair vocal tone batteri life good get approx day use hr day gym not good microphon no headphon price rang work fine area person side phone cannot hear voic clearli shout lotread',\n",
              " 'worth buy amaz sound qualiti powerfull bass audio qualiti better bluetooth modeand much better connect aux cabl one best price rang read',\n",
              " 'best class also worth ur penni flipkart deliv four day awesom charg take jst hre full charg u keep hear may caus ear problem headset fit perfectlyread',\n",
              " 'everi perform headphon good sound fluctuat call rang almost meter connect sourc less accord price sound qualiti good bass also enhanc perform headphon equal reason bluetooth fluctuat sound compani work bass perform batteri also good anyon listen music around hour not satisfi wit read',\n",
              " 'product nice price rang paid pack not good flipkart box pack sill broken deliveri ekart goodread',\n",
              " 'nice product comfort perfect price someth u know bluetooth version bit old mic not work aux plug no issu still great pieceread',\n",
              " 'sound bass qualiti good price rang good headphon flipkart servic not good patna bad read',\n",
              " 'good product light weight good sound comfort ear good batteri backup read',\n",
              " 'ar pretti good sound decent base problem blue cushion ar less spongi yaa u get use day bluetooth connect also good u enjoy song pretti well headset recommend go price bought read',\n",
              " 'amaz sound qualiti reason price howev grip ear tight make wear uncomfort rockerz come better option slightli higher price read',\n",
              " 'realli worth product paisa wasollook wise great grab deal make u happi haharead',\n",
              " 'photo headphon necessari long keep review genuin use headphon month experi good thing bad thing pro man price bass awesom full volum music keep tune base boost need speaker anyth introvert person hard rock headphon make danc batteri charg anoth pro singl charg last read',\n",
              " 'amaz whoever read review advic alway hey u wait buy amaz bass sound qualiti stylish design much satisfi thank boat make stylish headphon love read',\n",
              " 'good headphon firstli go build qualiti ok even minut ear start paint cushion good lower part ear bud pressur appli plastic look bit cheap come sound qualiti price realli good bass awesom soft tribbl sound affect ur ear bluetooth connect good fast mm cord batteri run overal good headphon price recommend oth read',\n",
              " 'well sound qualiti quit good price segment depend phone well got dolbi atom good qualiti bass user instal bass booster play store hear best beast batteri backup good read hour one perfect choic ps wait sell smart buy read',\n",
              " 'boat rockerz beast bass great high low also decent overal sound qualiti great nois cancel pretti effect mic properli work call talk littl louder build qualiti ok overal great budget headphoneread',\n",
              " 'best audio output use wire wireless aux good game pubg good bass batteri backup still work good use weeksread',\n",
              " 'use haedphon easi pickup bought rs use one thing notic less comfort hardli mintu feel pain earread',\n",
              " 'best headphon world bass like wow excel sound qualiti comfort feel ach ear best comfortread',\n",
              " 'light weight good qualiti nice sound good bass everyth good not aspectread',\n",
              " 'bass good enough price bought thank flipkart deliv day adjust mesh headpiec good compar leather caus pain hr long period usag hurt batteri backup also good min hr read',\n",
              " 'awesom product nice bass look nice happyread',\n",
              " 'excel qualiti good sound great build bodi love feel listen music read',\n",
              " 'great loud sound buss loud not deep like soni good part light weight fit nice head build qualiti ok ok ear cushion soft not made good qualiti materi wireless rang littl low cover feet long distanc noic cancel awesom price point great wireless headphon read',\n",
              " 'music wise great great bass sound cant talk use call microphon bad person phone not abl hear read',\n",
              " 'pack fine good spaciou content qualiti charg cabl aux cabl fine qualiti headphon quit cheap well expect pnc not upto mark quit light gm btc bass good clariti good long stori short quit good read',\n",
              " 'good product wonder impress product niceread',\n",
              " 'got bbd sale use almost year never let greatest price rang easili give hr batteri backup full charg full charg within hour even year use give backup upto hr continu listen still best price go read',\n",
              " 'mid rang headphon decent sound qualiti bass ok batteri back decent would say look wise pretti decent worth buy feel bit tight ear sinc feel littl discomfort use long time ok buy read',\n",
              " 'well say best bcz bluetooth v better term price rang give good sound experi batteri good enough continu use upto hr sound qualiti awesom good indoor connect issu outdoor overal good productread',\n",
              " 'product awesom packag perfect safe color attract music sound qualiti awesom love product read',\n",
              " 'nice product bass good batteri backup awesom last four day use product day charg still batteri great product thank fipkartread',\n",
              " 'work fine good sound qualiti lightweight initi bit tight ear work well tri connect nearbi devic bluetooth front wi fi router due signal interfer sound break router nearbi use provid aux cabl instead bluetooth read',\n",
              " 'one best product price rang good sound qualiti even better bass fact use aux low batteri realli great con wear long hour feel comfort not sound reason retract shape read',\n",
              " 'awesom product guy spend mani hour tri find best product end accord best also wireless great advantag realiz use great conveni plu rang quit good keep phone corner hous move around hous begin crackl bit around metr plu apart wireless also use aux cabl includ box read',\n",
              " 'everyth good connect bluetooth talk somebodi call voic properli not audibl person otherwis music sound bass batteri star read',\n",
              " 'happi product worth price n recommend other firmli sit one place n datswhi help yoga n workout light weight n gud sound qualiti n proper nois cancel come amaz packag read',\n",
              " 'headphon nice previous use jbl better mic not work hardli work time properli everyth els good bass good grip earcup good good design good music lover voic felt good low medium volumeread',\n",
              " 'nice n decent qualiti accord sound n build comfort wise good product price rang purchas offer one go read',\n",
              " 'like product boat rocker boat rocker boat rocker yeah littl big wear outsid care stranger look batteri life hr compar hr br sound bass highlight differ br br br connect audio jack cabl phone use normal headset one simpli need read',\n",
              " 'pro good batteri backup good look design pure black high bass enough sound qualiti flipkart deliveri awesom con call qualiti not good bluetooth rang around feetread',\n",
              " 'benefit buy product get good sound qualiti get bass good design overal say worth product price late buy right product never disappoint read',\n",
              " 'satisfi purchas made mind buy test person take feedback two collegu sound qualiti bass commend price rs bought connect rang bluetooth headphon per test beyond begin feel distort two draw back found headphon pad could softer slight scratchi sound heard speak someon though mo read',\n",
              " 'nice qualiti control bass good product love nice sound qualiti fastest deliveri day deliveri fastest deliveri experi read',\n",
              " 'amaz bass built qualiti low caus lot pain ear u wear long bluetooth connect realli fast sound qualiti greatmic big issu not audibl hear person need play pubg mic support read',\n",
              " 'cool product mind blow batteri power ear feel littl bit pain ear use minut overal good product nice built qualiti proper bluetooth connect nice bass good bass lover read',\n",
              " 'boat great sound qualiti flipkart verri good product love flipkart time good deliveryread',\n",
              " 'sound look nice clariti well bass also goodread',\n",
              " 'total satisfi priduct nice design bass good batteri backup good overal good packag boat one drawback belt long use hard ear otherwis nice boat product goodread',\n",
              " 'enjoy product flipkart ever good speaker must buy good sound qualiti superrrrrrrrrr bass worth everi penni super duper cool headphon read',\n",
              " 'superb qualiti best sound qualiti voic clear look wise good product extra powerful bass feel vibrat soundread',\n",
              " 'nice product one go perfect sound good good bass batteri back also goodread',\n",
              " 'superb go think minut go wonder product good deliveri boy fast deliveryread',\n",
              " 'averag product would recommend go boat product guess price one worst part one rang audio start distort ur devic distanc far away frm headset best part batteri backup hour easi best backup u get bluetooth devic write review use product fr around month honest review u trust read',\n",
              " 'headphon superb sound qualiti also superb look like amazingi use almost monthbut one big problem headphon fit not good tite ear use long time pain use min gave read',\n",
              " 'sound qualiti good per price point view foldabl design help storag purpos good enough build qualiti best part amaz batteri backup thing not satisfi bluetooth version quit old sometim take second connect wise satisfi happi product read',\n",
              " 'nice earphon sound good batteri good look good design goodread',\n",
              " 'realli good headphon price rang build realli solid although littl tight also caus littl pain wear long time batteri life also good come mah batteri bass much better use aux cabl sound qualiti not compromis though color awesom wellread',\n",
              " 'best head set ever see easi use easi charg good qualiti productread',\n",
              " 'super price point nice build qualiti good bass clear sound light weight comfort definit good product year warrantyread',\n",
              " 'decent product till face no issu eye catch featur found two way connect devic connect bluetooth well aux cabl provid insid box headphon get charg remain usabl aux cabl proper function read',\n",
              " 'headphon come good sound surround great bass regret batteri long last even u expect comfort wear not recommend guy big head tight pain wear headphon small size especi made young mic littl bad use via bluetooth sound like radio sometim listen everyth without miss singl word well ok use wire cabl read',\n",
              " 'valu money not good think connect headphon not good bluetooth version higher good unnecessari noic play anyth batteri life good look good bought rs not satisfi bcz tight n u put ur ear hr call problem u talk call properli use headphon u wanna buy pleas increas ur price buy headphon replac read',\n",
              " 'excel product good bass power backupit work around hour charg iti bought price boat give us awesom qualityread',\n",
              " 'bass not good rs earphon better head phone batteri backup good anoth advantag bluetooth senhis perform better qualiti timesread',\n",
              " 'use product three month good experi product sound excel take no time connect bluetooth design also cool good batteri backup enjoy hour music charg hour con sometim music stuck second also happen time cant expect anyth better price travel freak love listen music product read',\n",
              " 'sound qualiti good bass excel u enjoy dolbi atmo sound feel like theatr design good min u might feel tight ear batteri backup quit good actual read',\n",
              " 'got defect piec flipkart servic support enough replac product good piec nice sound qualiti bluetooth connect good bought amaz get budget read',\n",
              " 'bass realli good sound cancel work perfectli not peak perfect accord price batteri backup awesom realli like headphonesread',\n",
              " 'good product afford price v v good special sound good cool superb structur bass good batteri hour batteri life simpli rate read',\n",
              " 'week use would say batteri backup pretti good last uptown hr bass extrem good come bluetooth not abl paus song connect lap use button headset would rate headphon read',\n",
              " 'headphon good bluetooth plug oax sound cant creat properli oax shokit also not pluge properli n rest thing goodread',\n",
              " 'wonder headphon great bass clear sound awesom sound headphon great qualiti must buy read',\n",
              " 'design good realli work design overal good qualiti headphon price also quit good compar headphon like product except designread',\n",
              " 'go divid review two part pro con pro sound bass amaz disappoint promis batteri backup also point promis compani run hour no problem kudo boat lightweight design look realli cool wear public travel con get uncomfort time though person wear spectacl region behind ear get hurt ini read',\n",
              " 'headphon amaz good build qualiti design one thing notic soon start use sound compar jbl headphon poor good sound jbl headphon much better one jbl headphon clear amaz sound qualiti way better one read',\n",
              " 'boat rockerz one best headphon u would get price pictur might look like product cheap materi made high qualiti materi extream light portabl ofcours sound qualiti bass simpli best overal great product read',\n",
              " 'spectacular amaz sound batteri back wull never ditch watch movi show signal phone hour drain superb headphon got luv recommend reader one go giv tryread',\n",
              " 'headset amaz sound qualiti awesom compat handi recommend friend custom lover music like love thank much flipcart read',\n",
              " 'good product boat littl bit tight wear later u get use bass awesom batteri backup best best bluetooth headphon price got rs like much read',\n",
              " 'nice product talk sound bass design everyth good mic not good person call not abl get voic clearli put mobil close mouth talk one sound bass good read',\n",
              " 'price headphon fluctuat base search demand headphon avail differ price differ seller headphon light feel heavi head n ear sound bass qualiti good connect bluetooth iphon instantli microphon work pretti well qualiti power volum could improv come good qualiti listen music headphon tri read',\n",
              " 'great product sound qualiti good exatra bass awsom bit tight worth money forgot like subscrib press bell icon get notif latest video lol read',\n",
              " 'awesom product boat bass also good look wise goodread',\n",
              " 'amaz sound super bass beauti product low price nois free sound read',\n",
              " 'excel base excel sound qualiti build qualiti improv overal search wireless headphon good base perfect product go read',\n",
              " 'superb bass nice batteri backup bargain buy price nice read',\n",
              " 'connect headphon bluetooth go creat problem bass otherwis look pretti nice aux connect better must say got nice product rupe size headphon precis small adult perfect teenag batteri backup pretti nice creat problem bluetooth connect sometimesread',\n",
              " 'awesom sound qualiti superb bass awesom build qualiti good batteri backup superb read',\n",
              " 'good sound reason batteri backup issu feel pain ear due ear headphon ear excel product good connect speed rang feet that small draw back otherwis excel reason price read',\n",
              " 'big lover boat rockerz love nice qualiti worth money buy read',\n",
              " 'best product best price product suitabl prefer costli product low costread',\n",
              " 'outstand product dash bass ear realli vibrat bass worth buy good bass fit good say sweat tight felt good fit good colorread',\n",
              " 'said tight would say rather may know adjust highli compat age size simpli fell love new boat rokerz wish enough time post pictur total run time read',\n",
              " 'best headphon rang even better jbl soni extraa base also thank gf give nice gift read',\n",
              " 'amaz sound build qualiti bass expect attract thank mm jack aux adjust perfect fit member small famili slightli heavi ignor overal valu money look like dedic product boat read',\n",
              " 'sound qualiti headphon quit impress design not good not comfort head ear use one two hour may give headach bought product amount find better product overal product good happi read',\n",
              " 'cool bro must buy product boat rockerz rock cool bass great sound worth buy better jbl read',\n",
              " 'good product price rang bass could littl bit higher apart product realli good recommend peopl want good sound qualiti price rang bluetooth headsetread',\n",
              " 'good look sound qualiti not comfort min everyth els fineread',\n",
              " 'first dad trust onlin shop first time trust flipkart thank ur deliveri regard headphon realli rock especi bass lover excel qualiti worthi product everyon love qualiti soundread',\n",
              " 'got headphon sell valu money product one thing better aux facil use headphon without betteri wire headphon good product bass good set equil mobil sound qualiti depand mobil also take chanc want go bluetooth headphon rupe bass batteri one week call perform due sound system batteri backup ba read',\n",
              " 'review day use use earlier friend worth buy excel sound excel bass excel build qualiti read',\n",
              " 'love nice product also deliveri boy also good person love product read',\n",
              " 'best headphon life good sound qualiti good bass rareread',\n",
              " 'receiv boat rockerz excel product price qualiti sound bass excel build product also super good given quit flexibl adjust size head plu foldabl must order priceread',\n",
              " 'pro sound qualiti awesom super bass nice design good batteri back con tight ear mic not respons read',\n",
              " 'got worth itgood batteri life good sound bass bought third product boati realli love boatread',\n",
              " 'great bluetooth good aux cabl light weight wore hour ear start littl itch hurt get better time total worth bought read',\n",
              " 'overal sound qualiti good bass awesom quiet worth money boat could make flexibl materi caus min bit pain ear ear start sweat read',\n",
              " 'sound qualiti awesom strong light weight built qualiti also good look nice sober found bass littl lesser think although nice bluetooth rang bought use boat also one much easi usabl read',\n",
              " 'bass except good balanc bass trembl vocal not upto mark mean love not pleasent hear hour unlik sennheis one consid price case best bluetooth headset option read',\n",
              " 'awesom product price bought januari may still condit eith no fault u r bgm lover go one u r gamer wont support thnx flipkart read',\n",
              " 'almost everyth good highli like jbl still nice extream product cheapest price long life batteri perform superb bass low light weightread',\n",
              " 'talk look pretti cool yet gener bass best price one issu use call someon voic usual not clear even person side rare hear voic read',\n",
              " 'desgin given feel hard ear otherwis sound qualiti awesom realli feel vibrat super extra bass sound cool look comfort go one look sound bass best product worth price thank flipkartread',\n",
              " 'nice product perfect durabl impress nice work boatread',\n",
              " 'super awesom product super awesom deliveri flipkart within hour order got pm day read',\n",
              " 'yeah good piec like itit good soundand nice bass alsobatteri life also longnic read',\n",
              " 'comfi compact stylish cool clear n beauti bass balanc trebl best headphon price segment dont want say much thing give tri read',\n",
              " 'nice sound qualiti awesom bass bt mic not seem satisfactori bt moreov grt product read',\n",
              " 'batteri life good work build qualiti bit good bluetooth headphon recommend guy money worth productread',\n",
              " 'realli good product best thing headphon bass quleal overal product best prise rangeread',\n",
              " 'headphon pretti look amaz bass qualiti good batteri life everyth worth price simpli awesom product read',\n",
              " 'headphon good listen music not good call call qualiti poor call receiv abl get voic clearli make call headphon read',\n",
              " 'good product amaz sound good qualiti fast bluetooth connect phone read',\n",
              " 'awesom headphon worth bass superb trebl good got rs recommend headphon read',\n",
              " 'superb product happi good bass good sound baterri backup okread',\n",
              " 'great sound worth money good build qualiti button soft handi good product read',\n",
              " 'great headphon price would say go becoz great bass sound qualiti also good button work plug con read',\n",
              " 'tri intex jogger level other howev qualiti satisfact got model explain simpli superb superb clariti sound rich bass valu money get start love first day read',\n",
              " 'year review headphon bass sound good batteri life good boat improv headphon lock system year head phone lock broken tottli good improv lock systemread',\n",
              " 'product good worth money bass excel effici light weight sleek design good rang connect lil dissaponit tat ear cushion not tat soft read',\n",
              " 'descent produ price must add aux cabl realli thought innov work fine well read',\n",
              " 'product realli good like everi thing built qualiti sound everyth good think need bass laptop user want take take blindli caus lot differ high bass qualiti love productread',\n",
              " 'nice product nice sound nice audio nice deliveri flipkart thank youread',\n",
              " 'amaz sound qualiti bass amaz like crystal clear soundread',\n",
              " 'sound qualiti good super cost not comfert think good love alway happi flipkart thnx flipkart love qualiti read',\n",
              " 'everyth perfect except design way built provid good nois cancel way tight use hour ear start feel ach thing need improv otherwis use sinc month dont complaint yet overal realli happi product read',\n",
              " 'one best price call qualiti also good bluetooth connect also nice like much read',\n",
              " 'product good love bass blue one not comfort better choic select black red oneread',\n",
              " 'got rs awesom rang worth everi penni good bass high volum song audibl outsid headphon itchi sweati summer outer materi cover ear not good build qualiti good adjust accordingli push bud read',\n",
              " 'okk use almost month review headphon superb sound qualiti bass osm minim design littl tight sometim adjust week minim control key soft cushion nice batteri backup decent charg speed didnt find mic good overal beast proce rangeread',\n",
              " 'even though littl tight head provid super bass clariti good backup fabul productread',\n",
              " 'write review week usag product good first time user sound good built qualiti okay think play pubg abl play bluetooth lag play play game use aux cabl bought headphon tight need adjust everi min last good normal usag read',\n",
              " 'nice headphon budget sound qualiti bass superb design also impress thing note headphon realli fit ear hear song half hour feel pain ear pain mood goe thing fix headphon good read',\n",
              " 'good headphon rang must buy product use phone good audio output get best result love itread',\n",
              " 'product come wireless headset usb cabl charg also standard two end male pin case want go wire instruct notebook clear point product good use coupl day work well bass best liter feel bluetooth pair seamless android window may encount problem use window rang mobil headset good rang read',\n",
              " 'whooo good one sleeki design head connect via bluetooth aux cabl call connect connect via aux cabl low voic improv overal good one batteri last hour charg hour read',\n",
              " 'nice product nice price fast deliveri flipkart awesom sound qualiti awesom bass must buy product u like review hit like read',\n",
              " 'sound qualiti good bass qualiti good play via bluetooth sound deep bass qualiti excel play via mm audio jack read',\n",
              " 'product wonder red black colour give classi look sound clariti bass worth star rate comfort built control nice mic okay okay worth star read',\n",
              " 'okay sound qualiti good ever cannot keep headphon hour ear start pain call not clear person phone cannot hear drag headset speak look headset listen song b good hour would better suggest take someth elseread',\n",
              " 'good product budget bluetooth connect well sound qualiti batteri backup extrem think buy budget headphon better sound built qualiti good batteri backup boat roaker best option youworth money read',\n",
              " 'best bluetoorh headphon rs sound qualiti good batteri around song sharp valu money productread',\n",
              " 'worth rs nice build n bass good n sound qualiti nice littl tight earsread',\n",
              " 'amaz product excel batteri life super cool look biggest advantag presenc headphon jack even devic batteri still use wire mode no headphon support featur price rang mic averag not best use work fine read',\n",
              " 'good product nice sound nice look good sound everyth control time talk not work properli overal good product price rangeread',\n",
              " 'awesom product handi good gym purpos guy prefer cheap one got one price rs read',\n",
              " 'good build qualiti easi use got deep bass sound qualiti good batteri backup good initi price win win buyer minut usag ear start hurt bit tighter ear read',\n",
              " 'best product nice base power batteri backup like itread',\n",
              " 'good qualiti rate choos top brand would spent thank flipkart boat brand make reason price go enjoy cool musicread',\n",
              " 'best bluetooth headset beauti design good power bass well budget confert ear read',\n",
              " 'work best good sound engin expect much low configur mobil worth cost read',\n",
              " 'tight head ear bcoz cushion made pure leather fit longer usag start tine tight sound good nd bass also better use boat basshead v earphon buy product boat good nd also hear boat nirvana uno earphoneread',\n",
              " 'headphon ear cup pad not much comfort made fine qualiti ear start sweat pain use longer period time issu microphon work connect bluetooth need disconnect first plug wire use mic like receiv call realli disturb best altern moto puls use thing qualiti moto comfort read',\n",
              " 'nice headphon price segment worth everi penni cant get someth better price segment bought rs read',\n",
              " 'amaz sound especi bass realli good u feel vibrat play hd sound superb microphon also work fine seem u r talk big hall person batteri back awesom fit hour full charg realli good price segment read',\n",
              " 'nice support phone bluetooth also excel satisfi boat read',\n",
              " 'awesom product use proit give hour batteri backup guy want buy product go ahead buy recommend everyon best market read',\n",
              " 'product good price fluctuat demor purchas product amount today sound qualiti good make call mic sensit work close room vehicl not outsid product awesom bindassread',\n",
              " 'flipkart amaz job get product outlet store model got awesom discount flipkart obviou sound qualiti headphon amaz bass qualiti also awesom lastli flipkart deliveri outstand servic thing not like product tight ear read',\n",
              " 'better sound qualiti batteri backup qualiti good feel good listen bass type song amaz experi love itread',\n",
              " 'superb product love boat brand compani product thank flipkart give best qualiti product read',\n",
              " 'good work sound qualiti also good like headphon thank u much filpkart read',\n",
              " 'nice wonder product super power bassread',\n",
              " 'boat rockerz awesom headphon price bought headphon audio cabl usb cabl charg good sound qualiti good bass good design love not ear problem face read',\n",
              " 'best purchas buy product batteri life time sound qualiti good not best tri black day use blue get dirti big ear littl bit uncomfort bass nice not complet collapseabelhit like read',\n",
              " 'good perform sound qualiti realli amaz design comfort level headphon not mark read',\n",
              " 'use boat rockerz past one year good audibl excel watch move moreov travel excellentread',\n",
              " 'super sound excel clariti term bass trebl price rang noth better read',\n",
              " 'awesom bass awesom clear sound awesom backup awesom design awesom prouctread',\n",
              " 'sometim take much time connect even build qualiti not good get enough though good product matter bass game sound read',\n",
              " 'good product improv plastic bodi sound qualiti also super bestread',\n",
              " 'got headset yesterday sound bass qualiti quit good design not ear start pain half hour ear coverag area small round unlik headset oval ear shape bluetooth rang decent batteri backup also good rate product good due ear coverag design read',\n",
              " 'sound good aux mode okay bluetooth mode good bass trebl overal good better memori card optionread',\n",
              " 'great headphon rich bass excel sound qualiti fabul purchas design awesom thank flipkart read',\n",
              " 'super qualiti best headphon recommend music lover dj lover clear voic pure bass even u feel bass low volum perfect fit ear batteri backup superb hr use still remain read',\n",
              " 'use product sinc month say excel product amaz music feel top qualiti valu money buy music lover enjoy super sound qualityread',\n",
              " 'good music bass also good batteri backup good v poor call read',\n",
              " 'bass good product qualiti also good need good handphon budget product good read',\n",
              " 'best headphon price rang wow bass super good nois cancel perfect love everi way read',\n",
              " 'excel worth product good perform nice likedread',\n",
              " 'good product nice deliv good music work perfectli call suppos u call friend talk hear hear ye u return product u replac product product problem tire productread',\n",
              " 'sound qualiti bass realli good price bit high got rs rs would best product rang hurt ear littl listen day get use watch movi back back ear fine got use batteri back realli awesom use like hour full charg read',\n",
              " 'good product nice packag idont recommend pubg player coz connect bt sound come fire sec delay wire amaz hear song cool high bass read',\n",
              " 'not expect best headset ever happi love u boatbut call qualiti poor otherwis best headset market compet soni read',\n",
              " 'thank product follow reason two way headset not worri discharg headset plug aux cabl voila listen music batteri backup also good fulli charg play almost hour mayb pubg bluetooth mode item make also good qualiti materi love power greet power pitch use asu headphon jack bottom read',\n",
              " 'packag good usual ontim deliveri flipkart regard product best market price con ear start pain hour cushion earpod good build qualiti topnotch price point come mm audio jack well case run batteri alway reli convent wire setup continu journey listen music great product k read',\n",
              " 'pro superb bass clear sooth sound best prefer rangecon find rangeread',\n",
              " 'nice sound great qualiti bass also great prize also low like light weight awesom design read',\n",
              " 'first happi deliveri product good valu batteri backup awesom thank flipkart fastest deliveri read',\n",
              " ...]"
            ]
          },
          "metadata": {
            "tags": []
          },
          "execution_count": 14
        }
      ]
    },
    {
      "cell_type": "code",
      "metadata": {
        "id": "1yhWo97AGFsK"
      },
      "source": [
        "#input and output values\n",
        "x = df['review'].values\n",
        "y = df['sentiment'].values "
      ],
      "execution_count": null,
      "outputs": []
    },
    {
      "cell_type": "code",
      "metadata": {
        "id": "j3BBzoQx9d6-"
      },
      "source": [
        "#splitting the data\n",
        "from sklearn.model_selection import train_test_split\n",
        "x_train,x_test,y_train,y_test = train_test_split(x,y,test_size = 0.3,random_state = 42)"
      ],
      "execution_count": null,
      "outputs": []
    },
    {
      "cell_type": "code",
      "metadata": {
        "id": "ELgR5fRs9jJv",
        "colab": {
          "base_uri": "https://localhost:8080/"
        },
        "outputId": "d8b1fb00-3e2f-4e28-b67c-45d5021c22c4"
      },
      "source": [
        "x_train.shape"
      ],
      "execution_count": null,
      "outputs": [
        {
          "output_type": "execute_result",
          "data": {
            "text/plain": [
              "(6983,)"
            ]
          },
          "metadata": {
            "tags": []
          },
          "execution_count": 17
        }
      ]
    },
    {
      "cell_type": "code",
      "metadata": {
        "id": "aZ_CrNIYHhBs",
        "colab": {
          "base_uri": "https://localhost:8080/"
        },
        "outputId": "f6f67a26-a3f7-4b96-c9f1-4209cbf011bd"
      },
      "source": [
        "x_test.shape"
      ],
      "execution_count": null,
      "outputs": [
        {
          "output_type": "execute_result",
          "data": {
            "text/plain": [
              "(2993,)"
            ]
          },
          "metadata": {
            "tags": []
          },
          "execution_count": 18
        }
      ]
    },
    {
      "cell_type": "code",
      "metadata": {
        "id": "osCP-y1RIl_8",
        "colab": {
          "base_uri": "https://localhost:8080/"
        },
        "outputId": "19649330-feb1-485e-aadd-d12850473d2b"
      },
      "source": [
        "np.unique(y_train,return_counts=True)"
      ],
      "execution_count": null,
      "outputs": [
        {
          "output_type": "execute_result",
          "data": {
            "text/plain": [
              "(array(['Negative', 'Positive'], dtype=object), array([1344, 5639]))"
            ]
          },
          "metadata": {
            "tags": []
          },
          "execution_count": 19
        }
      ]
    },
    {
      "cell_type": "code",
      "metadata": {
        "id": "VJmpSC2SImrO",
        "colab": {
          "base_uri": "https://localhost:8080/"
        },
        "outputId": "df7e0ecb-37ef-4bc6-9a2f-8c6ccd11d72d"
      },
      "source": [
        "np.unique(y_test,return_counts=True)"
      ],
      "execution_count": null,
      "outputs": [
        {
          "output_type": "execute_result",
          "data": {
            "text/plain": [
              "(array(['Negative', 'Positive'], dtype=object), array([ 541, 2452]))"
            ]
          },
          "metadata": {
            "tags": []
          },
          "execution_count": 20
        }
      ]
    },
    {
      "cell_type": "code",
      "metadata": {
        "id": "7jJfrcW8g2dy",
        "colab": {
          "base_uri": "https://localhost:8080/"
        },
        "outputId": "3d7a8d1c-a32e-415c-945e-b4f8b06ad209"
      },
      "source": [
        "#Pipeline\n",
        "#Vectorization using TFIDF Vectorizer\n",
        "#SVM Algorithm\n",
        "from sklearn.pipeline import Pipeline\n",
        "from sklearn.feature_extraction.text import TfidfVectorizer\n",
        "from sklearn.svm import SVC\n",
        "text_model = Pipeline([('tfidf',TfidfVectorizer()),('model',SVC())])\n",
        "text_model.fit(x_train,y_train)\n",
        "y_pred = text_model.predict(x_test)\n",
        "np.unique(y_pred,return_counts=True)"
      ],
      "execution_count": null,
      "outputs": [
        {
          "output_type": "execute_result",
          "data": {
            "text/plain": [
              "(array(['Negative', 'Positive'], dtype=object), array([ 361, 2632]))"
            ]
          },
          "metadata": {
            "tags": []
          },
          "execution_count": 21
        }
      ]
    },
    {
      "cell_type": "code",
      "metadata": {
        "id": "VDpe8PmaHnVR",
        "colab": {
          "base_uri": "https://localhost:8080/"
        },
        "outputId": "904d1e3b-3e9a-44cc-961b-7d6014033626"
      },
      "source": [
        "y_pred"
      ],
      "execution_count": null,
      "outputs": [
        {
          "output_type": "execute_result",
          "data": {
            "text/plain": [
              "array(['Negative', 'Positive', 'Positive', ..., 'Positive', 'Positive',\n",
              "       'Positive'], dtype=object)"
            ]
          },
          "metadata": {
            "tags": []
          },
          "execution_count": 22
        }
      ]
    },
    {
      "cell_type": "code",
      "metadata": {
        "id": "HJlax2azHqkX",
        "colab": {
          "base_uri": "https://localhost:8080/"
        },
        "outputId": "7bd9099c-7cdd-4ab9-87d0-b53bad5bfb89"
      },
      "source": [
        "y_test"
      ],
      "execution_count": null,
      "outputs": [
        {
          "output_type": "execute_result",
          "data": {
            "text/plain": [
              "array(['Positive', 'Positive', 'Positive', ..., 'Positive', 'Positive',\n",
              "       'Positive'], dtype=object)"
            ]
          },
          "metadata": {
            "tags": []
          },
          "execution_count": 23
        }
      ]
    },
    {
      "cell_type": "code",
      "metadata": {
        "id": "LncF8UrEhSo5",
        "colab": {
          "base_uri": "https://localhost:8080/"
        },
        "outputId": "95b3a64c-d953-4362-ef73-f5e2c8b6233b"
      },
      "source": [
        "from sklearn.metrics import accuracy_score,classification_report,confusion_matrix\n",
        "accuracy_score(y_pred,y_test)"
      ],
      "execution_count": null,
      "outputs": [
        {
          "output_type": "execute_result",
          "data": {
            "text/plain": [
              "0.9031072502505847"
            ]
          },
          "metadata": {
            "tags": []
          },
          "execution_count": 24
        }
      ]
    },
    {
      "cell_type": "code",
      "metadata": {
        "id": "WBqDW5GRharB",
        "colab": {
          "base_uri": "https://localhost:8080/"
        },
        "outputId": "e38bad34-2822-4c6b-f96e-ff224f2854ad"
      },
      "source": [
        "print(classification_report(y_pred,y_test))"
      ],
      "execution_count": null,
      "outputs": [
        {
          "output_type": "stream",
          "text": [
            "              precision    recall  f1-score   support\n",
            "\n",
            "    Negative       0.57      0.85      0.68       361\n",
            "    Positive       0.98      0.91      0.94      2632\n",
            "\n",
            "    accuracy                           0.90      2993\n",
            "   macro avg       0.77      0.88      0.81      2993\n",
            "weighted avg       0.93      0.90      0.91      2993\n",
            "\n"
          ],
          "name": "stdout"
        }
      ]
    },
    {
      "cell_type": "code",
      "metadata": {
        "id": "vN8lg-upH7YY",
        "colab": {
          "base_uri": "https://localhost:8080/"
        },
        "outputId": "cf07dfd5-e707-4866-d3d3-01fef254ce79"
      },
      "source": [
        "confusion_matrix(y_pred,y_test)"
      ],
      "execution_count": null,
      "outputs": [
        {
          "output_type": "execute_result",
          "data": {
            "text/plain": [
              "array([[ 306,   55],\n",
              "       [ 235, 2397]])"
            ]
          },
          "metadata": {
            "tags": []
          },
          "execution_count": 26
        }
      ]
    },
    {
      "cell_type": "code",
      "metadata": {
        "id": "Kt431eRrDDcg",
        "colab": {
          "base_uri": "https://localhost:8080/"
        },
        "outputId": "3e698a1f-c94e-4da6-f4ec-02365f049473"
      },
      "source": [
        "text_model"
      ],
      "execution_count": null,
      "outputs": [
        {
          "output_type": "execute_result",
          "data": {
            "text/plain": [
              "Pipeline(memory=None,\n",
              "         steps=[('tfidf',\n",
              "                 TfidfVectorizer(analyzer='word', binary=False,\n",
              "                                 decode_error='strict',\n",
              "                                 dtype=<class 'numpy.float64'>,\n",
              "                                 encoding='utf-8', input='content',\n",
              "                                 lowercase=True, max_df=1.0, max_features=None,\n",
              "                                 min_df=1, ngram_range=(1, 1), norm='l2',\n",
              "                                 preprocessor=None, smooth_idf=True,\n",
              "                                 stop_words=None, strip_accents=None,\n",
              "                                 sublinear_tf=False,\n",
              "                                 token_pattern='(?u)\\\\b\\\\w\\\\w+\\\\b',\n",
              "                                 tokenizer=None, use_idf=True,\n",
              "                                 vocabulary=None)),\n",
              "                ('model',\n",
              "                 SVC(C=1.0, break_ties=False, cache_size=200, class_weight=None,\n",
              "                     coef0=0.0, decision_function_shape='ovr', degree=3,\n",
              "                     gamma='scale', kernel='rbf', max_iter=-1,\n",
              "                     probability=False, random_state=None, shrinking=True,\n",
              "                     tol=0.001, verbose=False))],\n",
              "         verbose=False)"
            ]
          },
          "metadata": {
            "tags": []
          },
          "execution_count": 27
        }
      ]
    },
    {
      "cell_type": "code",
      "metadata": {
        "id": "DdpOJXk7hgLC",
        "colab": {
          "base_uri": "https://localhost:8080/"
        },
        "outputId": "4690edcc-47d6-4c1c-8dd6-6ef97692a91d"
      },
      "source": [
        "text_model.predict(['I bought in May 2019 and in June 2020, they have  completely stopped working!! they dont charge, they do work if not connected to a charger and audio is not clear either!!!not recommended , buy other products in this range. Go for earphones rather than headphonesREAD MORE'])"
      ],
      "execution_count": null,
      "outputs": [
        {
          "output_type": "execute_result",
          "data": {
            "text/plain": [
              "array(['Negative'], dtype=object)"
            ]
          },
          "metadata": {
            "tags": []
          },
          "execution_count": 28
        }
      ]
    },
    {
      "cell_type": "code",
      "metadata": {
        "id": "WadKVXtOxXgI",
        "colab": {
          "base_uri": "https://localhost:8080/"
        },
        "outputId": "dc0e00ca-8680-461f-dd06-562fc703f5fe"
      },
      "source": [
        "import joblib\n",
        "joblib.dump(text_model,'sentiment_analyser')"
      ],
      "execution_count": null,
      "outputs": [
        {
          "output_type": "execute_result",
          "data": {
            "text/plain": [
              "['sentiment_analyser']"
            ]
          },
          "metadata": {
            "tags": []
          },
          "execution_count": 29
        }
      ]
    },
    {
      "cell_type": "code",
      "metadata": {
        "id": "EzFS5wYEfoW8",
        "colab": {
          "base_uri": "https://localhost:8080/"
        },
        "outputId": "5368cdc7-33df-4490-ce96-5fd487e2fee3"
      },
      "source": [
        "!pip install streamlit --quiet\n",
        "!pip install pyngrok==4.1.1 --quiet\n",
        "from pyngrok import ngrok"
      ],
      "execution_count": null,
      "outputs": [
        {
          "output_type": "stream",
          "text": [
            "\u001b[K     |████████████████████████████████| 7.8MB 6.9MB/s \n",
            "\u001b[K     |████████████████████████████████| 4.2MB 36.0MB/s \n",
            "\u001b[K     |████████████████████████████████| 174kB 55.7MB/s \n",
            "\u001b[K     |████████████████████████████████| 112kB 54.9MB/s \n",
            "\u001b[K     |████████████████████████████████| 81kB 10.7MB/s \n",
            "\u001b[K     |████████████████████████████████| 122kB 57.0MB/s \n",
            "\u001b[K     |████████████████████████████████| 71kB 9.9MB/s \n",
            "\u001b[?25h  Building wheel for blinker (setup.py) ... \u001b[?25l\u001b[?25hdone\n",
            "\u001b[31mERROR: ipykernel 6.0.1 has requirement ipython>=7.23.1, but you'll have ipython 5.5.0 which is incompatible.\u001b[0m\n",
            "\u001b[31mERROR: google-colab 1.0.0 has requirement ipykernel~=4.10, but you'll have ipykernel 6.0.1 which is incompatible.\u001b[0m\n",
            "  Building wheel for pyngrok (setup.py) ... \u001b[?25l\u001b[?25hdone\n"
          ],
          "name": "stdout"
        }
      ]
    },
    {
      "cell_type": "code",
      "metadata": {
        "id": "Y01tCfD6fpft",
        "colab": {
          "base_uri": "https://localhost:8080/"
        },
        "outputId": "ec16c1fb-a9ad-449c-a541-eb53452733ef"
      },
      "source": [
        "%%writefile app.py\n",
        "import streamlit as st\n",
        "import joblib\n",
        "test_model = joblib.load('sentiment_analyser')\n",
        "st.title('Sentiment Analysis of customer reviews')\n",
        "ip = st.text_input('Enter your review: ')\n",
        "op = test_model.predict([ip])\n",
        "if st.button('Sentiment Prediction'):\n",
        "  st.title(op[0])"
      ],
      "execution_count": null,
      "outputs": [
        {
          "output_type": "stream",
          "text": [
            "Writing app.py\n"
          ],
          "name": "stdout"
        }
      ]
    },
    {
      "cell_type": "code",
      "metadata": {
        "id": "AD2Biqn4fwKm",
        "colab": {
          "base_uri": "https://localhost:8080/",
          "height": 53
        },
        "outputId": "0d59cfd7-43fa-402e-f928-0db6755db382"
      },
      "source": [
        "!nohup streamlit run app.py &\n",
        "url=ngrok.connect(port='8501')\n",
        "url"
      ],
      "execution_count": null,
      "outputs": [
        {
          "output_type": "stream",
          "text": [
            "nohup: appending output to 'nohup.out'\n"
          ],
          "name": "stdout"
        },
        {
          "output_type": "execute_result",
          "data": {
            "application/vnd.google.colaboratory.intrinsic+json": {
              "type": "string"
            },
            "text/plain": [
              "'http://27d8ddc3a42b.ngrok.io'"
            ]
          },
          "metadata": {
            "tags": []
          },
          "execution_count": 32
        }
      ]
    },
    {
      "cell_type": "code",
      "metadata": {
        "id": "YmF3m5ymlS8p"
      },
      "source": [
        "!pip install pipreqs --quiet"
      ],
      "execution_count": null,
      "outputs": []
    },
    {
      "cell_type": "code",
      "metadata": {
        "id": "AwyykK0pmVh7",
        "colab": {
          "base_uri": "https://localhost:8080/"
        },
        "outputId": "6a091768-7ac4-4d25-94c5-0daf46732a56"
      },
      "source": [
        "!pipreqs /content"
      ],
      "execution_count": null,
      "outputs": [
        {
          "output_type": "stream",
          "text": [
            "INFO: Successfully saved requirements file in /content/requirements.txt\n"
          ],
          "name": "stdout"
        }
      ]
    }
  ]
}